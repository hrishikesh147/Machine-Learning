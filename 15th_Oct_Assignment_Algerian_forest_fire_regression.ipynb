{
 "cells": [
  {
   "cell_type": "code",
   "execution_count": 1,
   "id": "7a3bf1ed",
   "metadata": {},
   "outputs": [],
   "source": [
    "import pandas as pd\n",
    "import numpy as np\n",
    "import seaborn as sns\n",
    "import matplotlib.pyplot as plt\n",
    "%matplotlib inline"
   ]
  },
  {
   "cell_type": "code",
   "execution_count": 2,
   "id": "c19d7f2c",
   "metadata": {},
   "outputs": [
    {
     "data": {
      "text/html": [
       "<div>\n",
       "<style scoped>\n",
       "    .dataframe tbody tr th:only-of-type {\n",
       "        vertical-align: middle;\n",
       "    }\n",
       "\n",
       "    .dataframe tbody tr th {\n",
       "        vertical-align: top;\n",
       "    }\n",
       "\n",
       "    .dataframe thead th {\n",
       "        text-align: right;\n",
       "    }\n",
       "</style>\n",
       "<table border=\"1\" class=\"dataframe\">\n",
       "  <thead>\n",
       "    <tr style=\"text-align: right;\">\n",
       "      <th></th>\n",
       "      <th>day</th>\n",
       "      <th>month</th>\n",
       "      <th>year</th>\n",
       "      <th>Temperature</th>\n",
       "      <th>RH</th>\n",
       "      <th>Ws</th>\n",
       "      <th>Rain</th>\n",
       "      <th>FFMC</th>\n",
       "      <th>DMC</th>\n",
       "      <th>DC</th>\n",
       "      <th>ISI</th>\n",
       "      <th>BUI</th>\n",
       "      <th>FWI</th>\n",
       "    </tr>\n",
       "  </thead>\n",
       "  <tbody>\n",
       "    <tr>\n",
       "      <th>0</th>\n",
       "      <td>1</td>\n",
       "      <td>6</td>\n",
       "      <td>2012</td>\n",
       "      <td>29</td>\n",
       "      <td>57</td>\n",
       "      <td>18</td>\n",
       "      <td>0.0</td>\n",
       "      <td>65.7</td>\n",
       "      <td>3.4</td>\n",
       "      <td>7.6</td>\n",
       "      <td>1.3</td>\n",
       "      <td>3.4</td>\n",
       "      <td>0.5</td>\n",
       "    </tr>\n",
       "    <tr>\n",
       "      <th>1</th>\n",
       "      <td>2</td>\n",
       "      <td>6</td>\n",
       "      <td>2012</td>\n",
       "      <td>29</td>\n",
       "      <td>61</td>\n",
       "      <td>13</td>\n",
       "      <td>1.3</td>\n",
       "      <td>64.4</td>\n",
       "      <td>4.1</td>\n",
       "      <td>7.6</td>\n",
       "      <td>1.0</td>\n",
       "      <td>3.9</td>\n",
       "      <td>0.4</td>\n",
       "    </tr>\n",
       "    <tr>\n",
       "      <th>2</th>\n",
       "      <td>3</td>\n",
       "      <td>6</td>\n",
       "      <td>2012</td>\n",
       "      <td>26</td>\n",
       "      <td>82</td>\n",
       "      <td>22</td>\n",
       "      <td>13.1</td>\n",
       "      <td>47.1</td>\n",
       "      <td>2.5</td>\n",
       "      <td>7.1</td>\n",
       "      <td>0.3</td>\n",
       "      <td>2.7</td>\n",
       "      <td>0.1</td>\n",
       "    </tr>\n",
       "    <tr>\n",
       "      <th>3</th>\n",
       "      <td>4</td>\n",
       "      <td>6</td>\n",
       "      <td>2012</td>\n",
       "      <td>25</td>\n",
       "      <td>89</td>\n",
       "      <td>13</td>\n",
       "      <td>2.5</td>\n",
       "      <td>28.6</td>\n",
       "      <td>1.3</td>\n",
       "      <td>6.9</td>\n",
       "      <td>0.0</td>\n",
       "      <td>1.7</td>\n",
       "      <td>0.0</td>\n",
       "    </tr>\n",
       "    <tr>\n",
       "      <th>4</th>\n",
       "      <td>5</td>\n",
       "      <td>6</td>\n",
       "      <td>2012</td>\n",
       "      <td>27</td>\n",
       "      <td>77</td>\n",
       "      <td>16</td>\n",
       "      <td>0.0</td>\n",
       "      <td>64.8</td>\n",
       "      <td>3.0</td>\n",
       "      <td>14.2</td>\n",
       "      <td>1.2</td>\n",
       "      <td>3.9</td>\n",
       "      <td>0.5</td>\n",
       "    </tr>\n",
       "  </tbody>\n",
       "</table>\n",
       "</div>"
      ],
      "text/plain": [
       "   day  month  year  Temperature   RH   Ws  Rain   FFMC  DMC    DC  ISI  BUI  \\\n",
       "0    1      6  2012           29   57   18    0.0  65.7  3.4   7.6  1.3  3.4   \n",
       "1    2      6  2012           29   61   13    1.3  64.4  4.1   7.6  1.0  3.9   \n",
       "2    3      6  2012           26   82   22   13.1  47.1  2.5   7.1  0.3  2.7   \n",
       "3    4      6  2012           25   89   13    2.5  28.6  1.3   6.9  0.0  1.7   \n",
       "4    5      6  2012           27   77   16    0.0  64.8  3.0  14.2  1.2  3.9   \n",
       "\n",
       "   FWI  \n",
       "0  0.5  \n",
       "1  0.4  \n",
       "2  0.1  \n",
       "3  0.0  \n",
       "4  0.5  "
      ]
     },
     "execution_count": 2,
     "metadata": {},
     "output_type": "execute_result"
    }
   ],
   "source": [
    "data=pd.read_csv(\"Algerian_forest_fires1.csv\")\n",
    "data.head()"
   ]
  },
  {
   "cell_type": "code",
   "execution_count": 3,
   "id": "2636c6e5",
   "metadata": {},
   "outputs": [
    {
     "name": "stdout",
     "output_type": "stream",
     "text": [
      "<class 'pandas.core.frame.DataFrame'>\n",
      "RangeIndex: 122 entries, 0 to 121\n",
      "Data columns (total 13 columns):\n",
      " #   Column       Non-Null Count  Dtype  \n",
      "---  ------       --------------  -----  \n",
      " 0   day          122 non-null    int64  \n",
      " 1   month        122 non-null    int64  \n",
      " 2   year         122 non-null    int64  \n",
      " 3   Temperature  122 non-null    int64  \n",
      " 4    RH          122 non-null    int64  \n",
      " 5    Ws          122 non-null    int64  \n",
      " 6   Rain         122 non-null    float64\n",
      " 7   FFMC         122 non-null    float64\n",
      " 8   DMC          122 non-null    float64\n",
      " 9   DC           122 non-null    float64\n",
      " 10  ISI          122 non-null    float64\n",
      " 11  BUI          122 non-null    float64\n",
      " 12  FWI          122 non-null    float64\n",
      "dtypes: float64(7), int64(6)\n",
      "memory usage: 12.5 KB\n"
     ]
    }
   ],
   "source": [
    "#checking data info\n",
    "data.info()"
   ]
  },
  {
   "cell_type": "code",
   "execution_count": 4,
   "id": "ceb10793",
   "metadata": {},
   "outputs": [
    {
     "data": {
      "text/plain": [
       "0"
      ]
     },
     "execution_count": 4,
     "metadata": {},
     "output_type": "execute_result"
    }
   ],
   "source": [
    "#checking null values\n",
    "data.isnull().sum().sum()\n",
    "\n",
    "# no null values present"
   ]
  },
  {
   "cell_type": "code",
   "execution_count": 5,
   "id": "b15761cb",
   "metadata": {},
   "outputs": [
    {
     "data": {
      "text/html": [
       "<div>\n",
       "<style scoped>\n",
       "    .dataframe tbody tr th:only-of-type {\n",
       "        vertical-align: middle;\n",
       "    }\n",
       "\n",
       "    .dataframe tbody tr th {\n",
       "        vertical-align: top;\n",
       "    }\n",
       "\n",
       "    .dataframe thead th {\n",
       "        text-align: right;\n",
       "    }\n",
       "</style>\n",
       "<table border=\"1\" class=\"dataframe\">\n",
       "  <thead>\n",
       "    <tr style=\"text-align: right;\">\n",
       "      <th></th>\n",
       "      <th>count</th>\n",
       "      <th>mean</th>\n",
       "      <th>std</th>\n",
       "      <th>min</th>\n",
       "      <th>25%</th>\n",
       "      <th>50%</th>\n",
       "      <th>75%</th>\n",
       "      <th>max</th>\n",
       "    </tr>\n",
       "  </thead>\n",
       "  <tbody>\n",
       "    <tr>\n",
       "      <th>day</th>\n",
       "      <td>122.0</td>\n",
       "      <td>15.754098</td>\n",
       "      <td>8.843274</td>\n",
       "      <td>1.0</td>\n",
       "      <td>8.000</td>\n",
       "      <td>16.00</td>\n",
       "      <td>23.000</td>\n",
       "      <td>31.0</td>\n",
       "    </tr>\n",
       "    <tr>\n",
       "      <th>month</th>\n",
       "      <td>122.0</td>\n",
       "      <td>7.500000</td>\n",
       "      <td>1.115259</td>\n",
       "      <td>6.0</td>\n",
       "      <td>7.000</td>\n",
       "      <td>7.50</td>\n",
       "      <td>8.000</td>\n",
       "      <td>9.0</td>\n",
       "    </tr>\n",
       "    <tr>\n",
       "      <th>year</th>\n",
       "      <td>122.0</td>\n",
       "      <td>2012.000000</td>\n",
       "      <td>0.000000</td>\n",
       "      <td>2012.0</td>\n",
       "      <td>2012.000</td>\n",
       "      <td>2012.00</td>\n",
       "      <td>2012.000</td>\n",
       "      <td>2012.0</td>\n",
       "    </tr>\n",
       "    <tr>\n",
       "      <th>Temperature</th>\n",
       "      <td>122.0</td>\n",
       "      <td>31.180328</td>\n",
       "      <td>3.320401</td>\n",
       "      <td>22.0</td>\n",
       "      <td>29.000</td>\n",
       "      <td>31.00</td>\n",
       "      <td>34.000</td>\n",
       "      <td>37.0</td>\n",
       "    </tr>\n",
       "    <tr>\n",
       "      <th>RH</th>\n",
       "      <td>122.0</td>\n",
       "      <td>67.975410</td>\n",
       "      <td>11.154411</td>\n",
       "      <td>45.0</td>\n",
       "      <td>60.000</td>\n",
       "      <td>68.00</td>\n",
       "      <td>77.750</td>\n",
       "      <td>89.0</td>\n",
       "    </tr>\n",
       "    <tr>\n",
       "      <th>Ws</th>\n",
       "      <td>122.0</td>\n",
       "      <td>16.000000</td>\n",
       "      <td>2.848807</td>\n",
       "      <td>11.0</td>\n",
       "      <td>14.000</td>\n",
       "      <td>16.00</td>\n",
       "      <td>18.000</td>\n",
       "      <td>26.0</td>\n",
       "    </tr>\n",
       "    <tr>\n",
       "      <th>Rain</th>\n",
       "      <td>122.0</td>\n",
       "      <td>0.842623</td>\n",
       "      <td>2.409208</td>\n",
       "      <td>0.0</td>\n",
       "      <td>0.000</td>\n",
       "      <td>0.00</td>\n",
       "      <td>0.500</td>\n",
       "      <td>16.8</td>\n",
       "    </tr>\n",
       "    <tr>\n",
       "      <th>FFMC</th>\n",
       "      <td>122.0</td>\n",
       "      <td>74.672951</td>\n",
       "      <td>15.558713</td>\n",
       "      <td>28.6</td>\n",
       "      <td>65.925</td>\n",
       "      <td>80.90</td>\n",
       "      <td>86.775</td>\n",
       "      <td>90.3</td>\n",
       "    </tr>\n",
       "    <tr>\n",
       "      <th>DMC</th>\n",
       "      <td>122.0</td>\n",
       "      <td>12.314754</td>\n",
       "      <td>11.274360</td>\n",
       "      <td>0.7</td>\n",
       "      <td>3.725</td>\n",
       "      <td>9.45</td>\n",
       "      <td>16.300</td>\n",
       "      <td>54.2</td>\n",
       "    </tr>\n",
       "    <tr>\n",
       "      <th>DC</th>\n",
       "      <td>122.0</td>\n",
       "      <td>53.160656</td>\n",
       "      <td>51.778265</td>\n",
       "      <td>6.9</td>\n",
       "      <td>10.050</td>\n",
       "      <td>35.55</td>\n",
       "      <td>79.025</td>\n",
       "      <td>220.4</td>\n",
       "    </tr>\n",
       "    <tr>\n",
       "      <th>ISI</th>\n",
       "      <td>122.0</td>\n",
       "      <td>3.655738</td>\n",
       "      <td>3.021768</td>\n",
       "      <td>0.0</td>\n",
       "      <td>1.125</td>\n",
       "      <td>2.65</td>\n",
       "      <td>5.600</td>\n",
       "      <td>12.5</td>\n",
       "    </tr>\n",
       "    <tr>\n",
       "      <th>BUI</th>\n",
       "      <td>122.0</td>\n",
       "      <td>15.426230</td>\n",
       "      <td>14.474302</td>\n",
       "      <td>1.1</td>\n",
       "      <td>5.100</td>\n",
       "      <td>11.20</td>\n",
       "      <td>21.675</td>\n",
       "      <td>67.4</td>\n",
       "    </tr>\n",
       "    <tr>\n",
       "      <th>FWI</th>\n",
       "      <td>122.0</td>\n",
       "      <td>5.577869</td>\n",
       "      <td>6.343051</td>\n",
       "      <td>0.0</td>\n",
       "      <td>0.500</td>\n",
       "      <td>3.00</td>\n",
       "      <td>8.700</td>\n",
       "      <td>30.2</td>\n",
       "    </tr>\n",
       "  </tbody>\n",
       "</table>\n",
       "</div>"
      ],
      "text/plain": [
       "             count         mean        std     min       25%      50%  \\\n",
       "day          122.0    15.754098   8.843274     1.0     8.000    16.00   \n",
       "month        122.0     7.500000   1.115259     6.0     7.000     7.50   \n",
       "year         122.0  2012.000000   0.000000  2012.0  2012.000  2012.00   \n",
       "Temperature  122.0    31.180328   3.320401    22.0    29.000    31.00   \n",
       " RH          122.0    67.975410  11.154411    45.0    60.000    68.00   \n",
       " Ws          122.0    16.000000   2.848807    11.0    14.000    16.00   \n",
       "Rain         122.0     0.842623   2.409208     0.0     0.000     0.00   \n",
       "FFMC         122.0    74.672951  15.558713    28.6    65.925    80.90   \n",
       "DMC          122.0    12.314754  11.274360     0.7     3.725     9.45   \n",
       "DC           122.0    53.160656  51.778265     6.9    10.050    35.55   \n",
       "ISI          122.0     3.655738   3.021768     0.0     1.125     2.65   \n",
       "BUI          122.0    15.426230  14.474302     1.1     5.100    11.20   \n",
       "FWI          122.0     5.577869   6.343051     0.0     0.500     3.00   \n",
       "\n",
       "                  75%     max  \n",
       "day            23.000    31.0  \n",
       "month           8.000     9.0  \n",
       "year         2012.000  2012.0  \n",
       "Temperature    34.000    37.0  \n",
       " RH            77.750    89.0  \n",
       " Ws            18.000    26.0  \n",
       "Rain            0.500    16.8  \n",
       "FFMC           86.775    90.3  \n",
       "DMC            16.300    54.2  \n",
       "DC             79.025   220.4  \n",
       "ISI             5.600    12.5  \n",
       "BUI            21.675    67.4  \n",
       "FWI             8.700    30.2  "
      ]
     },
     "execution_count": 5,
     "metadata": {},
     "output_type": "execute_result"
    }
   ],
   "source": [
    "#To check mean, min, SD etc\n",
    "data.describe().T"
   ]
  },
  {
   "cell_type": "code",
   "execution_count": 6,
   "id": "2fd22d22",
   "metadata": {},
   "outputs": [
    {
     "data": {
      "text/html": [
       "<div>\n",
       "<style scoped>\n",
       "    .dataframe tbody tr th:only-of-type {\n",
       "        vertical-align: middle;\n",
       "    }\n",
       "\n",
       "    .dataframe tbody tr th {\n",
       "        vertical-align: top;\n",
       "    }\n",
       "\n",
       "    .dataframe thead th {\n",
       "        text-align: right;\n",
       "    }\n",
       "</style>\n",
       "<table border=\"1\" class=\"dataframe\">\n",
       "  <thead>\n",
       "    <tr style=\"text-align: right;\">\n",
       "      <th></th>\n",
       "      <th>day</th>\n",
       "      <th>month</th>\n",
       "      <th>year</th>\n",
       "      <th>Temperature</th>\n",
       "      <th>RH</th>\n",
       "      <th>Ws</th>\n",
       "      <th>Rain</th>\n",
       "      <th>FFMC</th>\n",
       "      <th>DMC</th>\n",
       "      <th>DC</th>\n",
       "      <th>ISI</th>\n",
       "      <th>BUI</th>\n",
       "      <th>FWI</th>\n",
       "    </tr>\n",
       "  </thead>\n",
       "  <tbody>\n",
       "    <tr>\n",
       "      <th>day</th>\n",
       "      <td>1.000000e+00</td>\n",
       "      <td>5.358691e-17</td>\n",
       "      <td>NaN</td>\n",
       "      <td>0.181092</td>\n",
       "      <td>-0.210608</td>\n",
       "      <td>0.063970</td>\n",
       "      <td>-0.097489</td>\n",
       "      <td>0.291751</td>\n",
       "      <td>0.542760</td>\n",
       "      <td>0.568644</td>\n",
       "      <td>0.371489</td>\n",
       "      <td>0.557301</td>\n",
       "      <td>0.467585</td>\n",
       "    </tr>\n",
       "    <tr>\n",
       "      <th>month</th>\n",
       "      <td>5.358691e-17</td>\n",
       "      <td>1.000000e+00</td>\n",
       "      <td>NaN</td>\n",
       "      <td>-0.035708</td>\n",
       "      <td>-0.088025</td>\n",
       "      <td>-0.007804</td>\n",
       "      <td>0.145180</td>\n",
       "      <td>-0.040746</td>\n",
       "      <td>-0.007624</td>\n",
       "      <td>-0.006211</td>\n",
       "      <td>-0.011281</td>\n",
       "      <td>-0.009113</td>\n",
       "      <td>0.003330</td>\n",
       "    </tr>\n",
       "    <tr>\n",
       "      <th>year</th>\n",
       "      <td>NaN</td>\n",
       "      <td>NaN</td>\n",
       "      <td>NaN</td>\n",
       "      <td>NaN</td>\n",
       "      <td>NaN</td>\n",
       "      <td>NaN</td>\n",
       "      <td>NaN</td>\n",
       "      <td>NaN</td>\n",
       "      <td>NaN</td>\n",
       "      <td>NaN</td>\n",
       "      <td>NaN</td>\n",
       "      <td>NaN</td>\n",
       "      <td>NaN</td>\n",
       "    </tr>\n",
       "    <tr>\n",
       "      <th>Temperature</th>\n",
       "      <td>1.810918e-01</td>\n",
       "      <td>-3.570824e-02</td>\n",
       "      <td>NaN</td>\n",
       "      <td>1.000000</td>\n",
       "      <td>-0.660151</td>\n",
       "      <td>-0.228035</td>\n",
       "      <td>-0.486947</td>\n",
       "      <td>0.748423</td>\n",
       "      <td>0.541489</td>\n",
       "      <td>0.532838</td>\n",
       "      <td>0.663871</td>\n",
       "      <td>0.542210</td>\n",
       "      <td>0.608367</td>\n",
       "    </tr>\n",
       "    <tr>\n",
       "      <th>RH</th>\n",
       "      <td>-2.106080e-01</td>\n",
       "      <td>-8.802546e-02</td>\n",
       "      <td>NaN</td>\n",
       "      <td>-0.660151</td>\n",
       "      <td>1.000000</td>\n",
       "      <td>0.245774</td>\n",
       "      <td>0.329163</td>\n",
       "      <td>-0.653153</td>\n",
       "      <td>-0.347080</td>\n",
       "      <td>-0.314271</td>\n",
       "      <td>-0.586410</td>\n",
       "      <td>-0.338233</td>\n",
       "      <td>-0.476067</td>\n",
       "    </tr>\n",
       "    <tr>\n",
       "      <th>Ws</th>\n",
       "      <td>6.396952e-02</td>\n",
       "      <td>-7.803641e-03</td>\n",
       "      <td>NaN</td>\n",
       "      <td>-0.228035</td>\n",
       "      <td>0.245774</td>\n",
       "      <td>1.000000</td>\n",
       "      <td>0.349321</td>\n",
       "      <td>-0.211069</td>\n",
       "      <td>0.039394</td>\n",
       "      <td>0.099231</td>\n",
       "      <td>-0.039266</td>\n",
       "      <td>0.062212</td>\n",
       "      <td>0.029637</td>\n",
       "    </tr>\n",
       "    <tr>\n",
       "      <th>Rain</th>\n",
       "      <td>-9.748921e-02</td>\n",
       "      <td>1.451800e-01</td>\n",
       "      <td>NaN</td>\n",
       "      <td>-0.486947</td>\n",
       "      <td>0.329163</td>\n",
       "      <td>0.349321</td>\n",
       "      <td>1.000000</td>\n",
       "      <td>-0.573476</td>\n",
       "      <td>-0.265371</td>\n",
       "      <td>-0.283652</td>\n",
       "      <td>-0.366425</td>\n",
       "      <td>-0.271951</td>\n",
       "      <td>-0.292914</td>\n",
       "    </tr>\n",
       "    <tr>\n",
       "      <th>FFMC</th>\n",
       "      <td>2.917513e-01</td>\n",
       "      <td>-4.074604e-02</td>\n",
       "      <td>NaN</td>\n",
       "      <td>0.748423</td>\n",
       "      <td>-0.653153</td>\n",
       "      <td>-0.211069</td>\n",
       "      <td>-0.573476</td>\n",
       "      <td>1.000000</td>\n",
       "      <td>0.608512</td>\n",
       "      <td>0.575221</td>\n",
       "      <td>0.790086</td>\n",
       "      <td>0.600707</td>\n",
       "      <td>0.675553</td>\n",
       "    </tr>\n",
       "    <tr>\n",
       "      <th>DMC</th>\n",
       "      <td>5.427601e-01</td>\n",
       "      <td>-7.624391e-03</td>\n",
       "      <td>NaN</td>\n",
       "      <td>0.541489</td>\n",
       "      <td>-0.347080</td>\n",
       "      <td>0.039394</td>\n",
       "      <td>-0.265371</td>\n",
       "      <td>0.608512</td>\n",
       "      <td>1.000000</td>\n",
       "      <td>0.962193</td>\n",
       "      <td>0.750098</td>\n",
       "      <td>0.995551</td>\n",
       "      <td>0.901759</td>\n",
       "    </tr>\n",
       "    <tr>\n",
       "      <th>DC</th>\n",
       "      <td>5.686443e-01</td>\n",
       "      <td>-6.211283e-03</td>\n",
       "      <td>NaN</td>\n",
       "      <td>0.532838</td>\n",
       "      <td>-0.314271</td>\n",
       "      <td>0.099231</td>\n",
       "      <td>-0.283652</td>\n",
       "      <td>0.575221</td>\n",
       "      <td>0.962193</td>\n",
       "      <td>1.000000</td>\n",
       "      <td>0.717591</td>\n",
       "      <td>0.982554</td>\n",
       "      <td>0.869911</td>\n",
       "    </tr>\n",
       "    <tr>\n",
       "      <th>ISI</th>\n",
       "      <td>3.714887e-01</td>\n",
       "      <td>-1.128069e-02</td>\n",
       "      <td>NaN</td>\n",
       "      <td>0.663871</td>\n",
       "      <td>-0.586410</td>\n",
       "      <td>-0.039266</td>\n",
       "      <td>-0.366425</td>\n",
       "      <td>0.790086</td>\n",
       "      <td>0.750098</td>\n",
       "      <td>0.717591</td>\n",
       "      <td>1.000000</td>\n",
       "      <td>0.746761</td>\n",
       "      <td>0.944062</td>\n",
       "    </tr>\n",
       "    <tr>\n",
       "      <th>BUI</th>\n",
       "      <td>5.573006e-01</td>\n",
       "      <td>-9.113001e-03</td>\n",
       "      <td>NaN</td>\n",
       "      <td>0.542210</td>\n",
       "      <td>-0.338233</td>\n",
       "      <td>0.062212</td>\n",
       "      <td>-0.271951</td>\n",
       "      <td>0.600707</td>\n",
       "      <td>0.995551</td>\n",
       "      <td>0.982554</td>\n",
       "      <td>0.746761</td>\n",
       "      <td>1.000000</td>\n",
       "      <td>0.900417</td>\n",
       "    </tr>\n",
       "    <tr>\n",
       "      <th>FWI</th>\n",
       "      <td>4.675849e-01</td>\n",
       "      <td>3.329551e-03</td>\n",
       "      <td>NaN</td>\n",
       "      <td>0.608367</td>\n",
       "      <td>-0.476067</td>\n",
       "      <td>0.029637</td>\n",
       "      <td>-0.292914</td>\n",
       "      <td>0.675553</td>\n",
       "      <td>0.901759</td>\n",
       "      <td>0.869911</td>\n",
       "      <td>0.944062</td>\n",
       "      <td>0.900417</td>\n",
       "      <td>1.000000</td>\n",
       "    </tr>\n",
       "  </tbody>\n",
       "</table>\n",
       "</div>"
      ],
      "text/plain": [
       "                      day         month  year  Temperature        RH  \\\n",
       "day          1.000000e+00  5.358691e-17   NaN     0.181092 -0.210608   \n",
       "month        5.358691e-17  1.000000e+00   NaN    -0.035708 -0.088025   \n",
       "year                  NaN           NaN   NaN          NaN       NaN   \n",
       "Temperature  1.810918e-01 -3.570824e-02   NaN     1.000000 -0.660151   \n",
       " RH         -2.106080e-01 -8.802546e-02   NaN    -0.660151  1.000000   \n",
       " Ws          6.396952e-02 -7.803641e-03   NaN    -0.228035  0.245774   \n",
       "Rain        -9.748921e-02  1.451800e-01   NaN    -0.486947  0.329163   \n",
       "FFMC         2.917513e-01 -4.074604e-02   NaN     0.748423 -0.653153   \n",
       "DMC          5.427601e-01 -7.624391e-03   NaN     0.541489 -0.347080   \n",
       "DC           5.686443e-01 -6.211283e-03   NaN     0.532838 -0.314271   \n",
       "ISI          3.714887e-01 -1.128069e-02   NaN     0.663871 -0.586410   \n",
       "BUI          5.573006e-01 -9.113001e-03   NaN     0.542210 -0.338233   \n",
       "FWI          4.675849e-01  3.329551e-03   NaN     0.608367 -0.476067   \n",
       "\n",
       "                   Ws     Rain       FFMC       DMC        DC       ISI  \\\n",
       "day          0.063970 -0.097489  0.291751  0.542760  0.568644  0.371489   \n",
       "month       -0.007804  0.145180 -0.040746 -0.007624 -0.006211 -0.011281   \n",
       "year              NaN       NaN       NaN       NaN       NaN       NaN   \n",
       "Temperature -0.228035 -0.486947  0.748423  0.541489  0.532838  0.663871   \n",
       " RH          0.245774  0.329163 -0.653153 -0.347080 -0.314271 -0.586410   \n",
       " Ws          1.000000  0.349321 -0.211069  0.039394  0.099231 -0.039266   \n",
       "Rain         0.349321  1.000000 -0.573476 -0.265371 -0.283652 -0.366425   \n",
       "FFMC        -0.211069 -0.573476  1.000000  0.608512  0.575221  0.790086   \n",
       "DMC          0.039394 -0.265371  0.608512  1.000000  0.962193  0.750098   \n",
       "DC           0.099231 -0.283652  0.575221  0.962193  1.000000  0.717591   \n",
       "ISI         -0.039266 -0.366425  0.790086  0.750098  0.717591  1.000000   \n",
       "BUI          0.062212 -0.271951  0.600707  0.995551  0.982554  0.746761   \n",
       "FWI          0.029637 -0.292914  0.675553  0.901759  0.869911  0.944062   \n",
       "\n",
       "                  BUI       FWI  \n",
       "day          0.557301  0.467585  \n",
       "month       -0.009113  0.003330  \n",
       "year              NaN       NaN  \n",
       "Temperature  0.542210  0.608367  \n",
       " RH         -0.338233 -0.476067  \n",
       " Ws          0.062212  0.029637  \n",
       "Rain        -0.271951 -0.292914  \n",
       "FFMC         0.600707  0.675553  \n",
       "DMC          0.995551  0.901759  \n",
       "DC           0.982554  0.869911  \n",
       "ISI          0.746761  0.944062  \n",
       "BUI          1.000000  0.900417  \n",
       "FWI          0.900417  1.000000  "
      ]
     },
     "execution_count": 6,
     "metadata": {},
     "output_type": "execute_result"
    }
   ],
   "source": [
    "data.corr()"
   ]
  },
  {
   "cell_type": "code",
   "execution_count": 7,
   "id": "58d05a74",
   "metadata": {},
   "outputs": [
    {
     "data": {
      "image/png": "[encoded data removed]",
      "text/plain": [
       "<Figure size 432x288 with 2 Axes>"
      ]
     },
     "metadata": {
      "needs_background": "light"
     },
     "output_type": "display_data"
    }
   ],
   "source": [
    "sns.heatmap(data.corr(),annot=True)\n",
    "sns.set(rc={'figure.figsize':(5,5)})"
   ]
  },
  {
   "cell_type": "markdown",
   "id": "a79adb0e",
   "metadata": {},
   "source": [
    "#heatmap shows , there is high positive correlation between \"FFMC\" and \"Temperature\"\n",
    "#there is high negatrive correlation between \"RH\" and \"temperature\"\n"
   ]
  },
  {
   "cell_type": "code",
   "execution_count": 8,
   "id": "0a26cf23",
   "metadata": {},
   "outputs": [
    {
     "data": {
      "image/png": "[encoded data removed]",
      "text/plain": [
       "<Figure size 360x360 with 1 Axes>"
      ]
     },
     "metadata": {},
     "output_type": "display_data"
    }
   ],
   "source": [
    "#lets check the above statement through scatter plot\n",
    "#scatter plot with temperature and FFMC data\n",
    "plt.scatter(data['FFMC'],data['Temperature'])\n",
    "plt.xlabel(\"FFMC\")\n",
    "plt.ylabel(\"Temperature\")\n",
    "sns.set(rc={'figure.figsize':(8,6)})\n"
   ]
  },
  {
   "cell_type": "markdown",
   "id": "fc305f9b",
   "metadata": {},
   "source": [
    "positive correlation between FFMC and temperature is confirmed through scatter plot"
   ]
  },
  {
   "cell_type": "code",
   "execution_count": 9,
   "id": "8518367e",
   "metadata": {},
   "outputs": [
    {
     "data": {
      "text/plain": [
       "<AxesSubplot:xlabel='FFMC', ylabel='Temperature'>"
      ]
     },
     "execution_count": 9,
     "metadata": {},
     "output_type": "execute_result"
    },
    {
     "data": {
      "image/png": "[encoded data removed]",
      "text/plain": [
       "<Figure size 576x432 with 1 Axes>"
      ]
     },
     "metadata": {},
     "output_type": "display_data"
    }
   ],
   "source": [
    "#creating a linear regression plot where input feature as FFMC and output as temperature\n",
    "sns.regplot(x=\"FFMC\",y=\"Temperature\",data=data)"
   ]
  },
  {
   "cell_type": "code",
   "execution_count": 11,
   "id": "9412e827",
   "metadata": {},
   "outputs": [
    {
     "data": {
      "text/html": [
       "<div>\n",
       "<style scoped>\n",
       "    .dataframe tbody tr th:only-of-type {\n",
       "        vertical-align: middle;\n",
       "    }\n",
       "\n",
       "    .dataframe tbody tr th {\n",
       "        vertical-align: top;\n",
       "    }\n",
       "\n",
       "    .dataframe thead th {\n",
       "        text-align: right;\n",
       "    }\n",
       "</style>\n",
       "<table border=\"1\" class=\"dataframe\">\n",
       "  <thead>\n",
       "    <tr style=\"text-align: right;\">\n",
       "      <th></th>\n",
       "      <th>day</th>\n",
       "      <th>month</th>\n",
       "      <th>year</th>\n",
       "      <th>RH</th>\n",
       "      <th>Ws</th>\n",
       "      <th>Rain</th>\n",
       "      <th>FFMC</th>\n",
       "      <th>DMC</th>\n",
       "      <th>DC</th>\n",
       "      <th>ISI</th>\n",
       "      <th>BUI</th>\n",
       "      <th>FWI</th>\n",
       "    </tr>\n",
       "  </thead>\n",
       "  <tbody>\n",
       "    <tr>\n",
       "      <th>0</th>\n",
       "      <td>1</td>\n",
       "      <td>6</td>\n",
       "      <td>2012</td>\n",
       "      <td>57</td>\n",
       "      <td>18</td>\n",
       "      <td>0.0</td>\n",
       "      <td>65.7</td>\n",
       "      <td>3.4</td>\n",
       "      <td>7.6</td>\n",
       "      <td>1.3</td>\n",
       "      <td>3.4</td>\n",
       "      <td>0.5</td>\n",
       "    </tr>\n",
       "    <tr>\n",
       "      <th>1</th>\n",
       "      <td>2</td>\n",
       "      <td>6</td>\n",
       "      <td>2012</td>\n",
       "      <td>61</td>\n",
       "      <td>13</td>\n",
       "      <td>1.3</td>\n",
       "      <td>64.4</td>\n",
       "      <td>4.1</td>\n",
       "      <td>7.6</td>\n",
       "      <td>1.0</td>\n",
       "      <td>3.9</td>\n",
       "      <td>0.4</td>\n",
       "    </tr>\n",
       "    <tr>\n",
       "      <th>2</th>\n",
       "      <td>3</td>\n",
       "      <td>6</td>\n",
       "      <td>2012</td>\n",
       "      <td>82</td>\n",
       "      <td>22</td>\n",
       "      <td>13.1</td>\n",
       "      <td>47.1</td>\n",
       "      <td>2.5</td>\n",
       "      <td>7.1</td>\n",
       "      <td>0.3</td>\n",
       "      <td>2.7</td>\n",
       "      <td>0.1</td>\n",
       "    </tr>\n",
       "    <tr>\n",
       "      <th>3</th>\n",
       "      <td>4</td>\n",
       "      <td>6</td>\n",
       "      <td>2012</td>\n",
       "      <td>89</td>\n",
       "      <td>13</td>\n",
       "      <td>2.5</td>\n",
       "      <td>28.6</td>\n",
       "      <td>1.3</td>\n",
       "      <td>6.9</td>\n",
       "      <td>0.0</td>\n",
       "      <td>1.7</td>\n",
       "      <td>0.0</td>\n",
       "    </tr>\n",
       "    <tr>\n",
       "      <th>4</th>\n",
       "      <td>5</td>\n",
       "      <td>6</td>\n",
       "      <td>2012</td>\n",
       "      <td>77</td>\n",
       "      <td>16</td>\n",
       "      <td>0.0</td>\n",
       "      <td>64.8</td>\n",
       "      <td>3.0</td>\n",
       "      <td>14.2</td>\n",
       "      <td>1.2</td>\n",
       "      <td>3.9</td>\n",
       "      <td>0.5</td>\n",
       "    </tr>\n",
       "    <tr>\n",
       "      <th>...</th>\n",
       "      <td>...</td>\n",
       "      <td>...</td>\n",
       "      <td>...</td>\n",
       "      <td>...</td>\n",
       "      <td>...</td>\n",
       "      <td>...</td>\n",
       "      <td>...</td>\n",
       "      <td>...</td>\n",
       "      <td>...</td>\n",
       "      <td>...</td>\n",
       "      <td>...</td>\n",
       "      <td>...</td>\n",
       "    </tr>\n",
       "    <tr>\n",
       "      <th>117</th>\n",
       "      <td>26</td>\n",
       "      <td>9</td>\n",
       "      <td>2012</td>\n",
       "      <td>54</td>\n",
       "      <td>11</td>\n",
       "      <td>0.0</td>\n",
       "      <td>82.0</td>\n",
       "      <td>6.0</td>\n",
       "      <td>16.3</td>\n",
       "      <td>2.5</td>\n",
       "      <td>6.2</td>\n",
       "      <td>1.7</td>\n",
       "    </tr>\n",
       "    <tr>\n",
       "      <th>118</th>\n",
       "      <td>27</td>\n",
       "      <td>9</td>\n",
       "      <td>2012</td>\n",
       "      <td>66</td>\n",
       "      <td>11</td>\n",
       "      <td>0.0</td>\n",
       "      <td>85.7</td>\n",
       "      <td>8.3</td>\n",
       "      <td>24.9</td>\n",
       "      <td>4.0</td>\n",
       "      <td>9.0</td>\n",
       "      <td>4.1</td>\n",
       "    </tr>\n",
       "    <tr>\n",
       "      <th>119</th>\n",
       "      <td>28</td>\n",
       "      <td>9</td>\n",
       "      <td>2012</td>\n",
       "      <td>47</td>\n",
       "      <td>14</td>\n",
       "      <td>0.7</td>\n",
       "      <td>77.5</td>\n",
       "      <td>7.1</td>\n",
       "      <td>8.8</td>\n",
       "      <td>1.8</td>\n",
       "      <td>6.8</td>\n",
       "      <td>0.9</td>\n",
       "    </tr>\n",
       "    <tr>\n",
       "      <th>120</th>\n",
       "      <td>29</td>\n",
       "      <td>9</td>\n",
       "      <td>2012</td>\n",
       "      <td>80</td>\n",
       "      <td>16</td>\n",
       "      <td>1.8</td>\n",
       "      <td>47.4</td>\n",
       "      <td>2.9</td>\n",
       "      <td>7.7</td>\n",
       "      <td>0.3</td>\n",
       "      <td>3.0</td>\n",
       "      <td>0.1</td>\n",
       "    </tr>\n",
       "    <tr>\n",
       "      <th>121</th>\n",
       "      <td>30</td>\n",
       "      <td>9</td>\n",
       "      <td>2012</td>\n",
       "      <td>78</td>\n",
       "      <td>14</td>\n",
       "      <td>1.4</td>\n",
       "      <td>45.0</td>\n",
       "      <td>1.9</td>\n",
       "      <td>7.5</td>\n",
       "      <td>0.2</td>\n",
       "      <td>2.4</td>\n",
       "      <td>0.1</td>\n",
       "    </tr>\n",
       "  </tbody>\n",
       "</table>\n",
       "<p>122 rows × 12 columns</p>\n",
       "</div>"
      ],
      "text/plain": [
       "     day  month  year   RH   Ws  Rain   FFMC  DMC    DC  ISI  BUI  FWI\n",
       "0      1      6  2012   57   18    0.0  65.7  3.4   7.6  1.3  3.4  0.5\n",
       "1      2      6  2012   61   13    1.3  64.4  4.1   7.6  1.0  3.9  0.4\n",
       "2      3      6  2012   82   22   13.1  47.1  2.5   7.1  0.3  2.7  0.1\n",
       "3      4      6  2012   89   13    2.5  28.6  1.3   6.9  0.0  1.7  0.0\n",
       "4      5      6  2012   77   16    0.0  64.8  3.0  14.2  1.2  3.9  0.5\n",
       "..   ...    ...   ...  ...  ...    ...   ...  ...   ...  ...  ...  ...\n",
       "117   26      9  2012   54   11    0.0  82.0  6.0  16.3  2.5  6.2  1.7\n",
       "118   27      9  2012   66   11    0.0  85.7  8.3  24.9  4.0  9.0  4.1\n",
       "119   28      9  2012   47   14    0.7  77.5  7.1   8.8  1.8  6.8  0.9\n",
       "120   29      9  2012   80   16    1.8  47.4  2.9   7.7  0.3  3.0  0.1\n",
       "121   30      9  2012   78   14    1.4  45.0  1.9   7.5  0.2  2.4  0.1\n",
       "\n",
       "[122 rows x 12 columns]"
      ]
     },
     "execution_count": 11,
     "metadata": {},
     "output_type": "execute_result"
    }
   ],
   "source": [
    "#creating independant and dependant variables\n",
    "#independant variable x\n",
    "x=data.drop(columns = ['Temperature'])\n",
    "\n",
    "x"
   ]
  },
  {
   "cell_type": "code",
   "execution_count": 12,
   "id": "78d5a046",
   "metadata": {},
   "outputs": [
    {
     "data": {
      "text/plain": [
       "0      29\n",
       "1      29\n",
       "2      26\n",
       "3      25\n",
       "4      27\n",
       "       ..\n",
       "117    31\n",
       "118    31\n",
       "119    32\n",
       "120    26\n",
       "121    25\n",
       "Name: Temperature, Length: 122, dtype: int64"
      ]
     },
     "execution_count": 12,
     "metadata": {},
     "output_type": "execute_result"
    }
   ],
   "source": [
    "#dependant variable y\n",
    "y=data['Temperature']\n",
    "y"
   ]
  },
  {
   "cell_type": "code",
   "execution_count": 13,
   "id": "5964b467",
   "metadata": {},
   "outputs": [],
   "source": [
    "#splitting the data as  train test data\n",
    "from sklearn.model_selection import train_test_split\n",
    "x_train,x_test,y_train,y_test=train_test_split(x,y,test_size=0.33,random_state=10)"
   ]
  },
  {
   "cell_type": "code",
   "execution_count": 14,
   "id": "8736eaac",
   "metadata": {},
   "outputs": [
    {
     "data": {
      "text/plain": [
       "(81, 12)"
      ]
     },
     "execution_count": 14,
     "metadata": {},
     "output_type": "execute_result"
    }
   ],
   "source": [
    "x_train.shape\n",
    "#x_train has 13 features"
   ]
  },
  {
   "cell_type": "code",
   "execution_count": 15,
   "id": "9ff486ef",
   "metadata": {},
   "outputs": [
    {
     "data": {
      "text/plain": [
       "(81,)"
      ]
     },
     "execution_count": 15,
     "metadata": {},
     "output_type": "execute_result"
    }
   ],
   "source": [
    "y_train.shape\n",
    "#y_train has 1 feature i.e temperature"
   ]
  },
  {
   "cell_type": "code",
   "execution_count": 16,
   "id": "a8e740a9",
   "metadata": {},
   "outputs": [
    {
     "data": {
      "text/plain": [
       "(41, 12)"
      ]
     },
     "execution_count": 16,
     "metadata": {},
     "output_type": "execute_result"
    }
   ],
   "source": [
    "x_test.shape"
   ]
  },
  {
   "cell_type": "code",
   "execution_count": 17,
   "id": "add491e9",
   "metadata": {},
   "outputs": [
    {
     "data": {
      "text/plain": [
       "(41,)"
      ]
     },
     "execution_count": 17,
     "metadata": {},
     "output_type": "execute_result"
    }
   ],
   "source": [
    "y_test.shape"
   ]
  },
  {
   "cell_type": "code",
   "execution_count": 18,
   "id": "039ca832",
   "metadata": {},
   "outputs": [
    {
     "data": {
      "text/plain": [
       "StandardScaler()"
      ]
     },
     "execution_count": 18,
     "metadata": {},
     "output_type": "execute_result"
    }
   ],
   "source": [
    "#standardise or feature scaling\n",
    "from sklearn.preprocessing import StandardScaler\n",
    "scaler=StandardScaler()\n",
    "scaler"
   ]
  },
  {
   "cell_type": "code",
   "execution_count": 19,
   "id": "cd975507",
   "metadata": {},
   "outputs": [
    {
     "data": {
      "text/plain": [
       "array([[ 1.39662887e+00, -4.13679344e-01,  0.00000000e+00,\n",
       "         3.81175215e-01, -3.60768766e-01, -3.03602781e-01,\n",
       "         7.75476283e-01,  1.21087087e+00,  1.41627894e+00,\n",
       "         7.50439524e-01,  1.30104373e+00,  1.07879977e+00],\n",
       "       [-1.46734425e+00, -4.13679344e-01,  0.00000000e+00,\n",
       "         6.49655148e-01,  1.58738257e+00,  6.56438445e-03,\n",
       "        -7.56562227e-01, -8.45986965e-01, -8.50841312e-01,\n",
       "        -8.03532451e-01, -8.45690845e-01, -8.13249054e-01],\n",
       "       [-1.13688582e+00,  4.68110837e-01,  0.00000000e+00,\n",
       "         5.60161837e-01, -7.50399033e-01, -3.03602781e-01,\n",
       "         7.62437657e-01,  4.16197349e-02, -2.75400772e-01,\n",
       "         6.05883991e-01, -9.43337452e-02,  2.32356873e-01],\n",
       "       [ 9.56017618e-01,  4.68110837e-01,  0.00000000e+00,\n",
       "        -7.82237832e-01, -3.60768766e-01, -3.03602781e-01,\n",
       "         9.25420477e-01,  2.67883580e+00,  2.46130976e+00,\n",
       "         1.69005049e+00,  2.62262720e+00,  2.47294100e+00],\n",
       "       [-6.96274567e-01,  4.68110837e-01,  0.00000000e+00,\n",
       "        -1.22970439e+00, -7.50399033e-01, -3.03602781e-01,\n",
       "         9.25420477e-01,  5.19561804e-01,  2.61548762e-01,\n",
       "         1.40093942e+00,  4.22224261e-01,  1.02900901e+00],\n",
       "       [-1.13688582e+00,  1.34990102e+00,  0.00000000e+00,\n",
       "         4.70668526e-01,  1.19775230e+00, -2.59293186e-01,\n",
       "         7.13904995e-02, -7.60640167e-01, -4.08194743e-01,\n",
       "        -5.14421386e-01, -6.71268661e-01, -7.46861376e-01],\n",
       "       [-3.65816130e-01, -4.13679344e-01,  0.00000000e+00,\n",
       "         1.09712170e+00, -3.60768766e-01, -3.03602781e-01,\n",
       "         4.62549268e-01, -2.40024699e-01, -3.11967228e-01,\n",
       "        -1.89171438e-01, -2.62047384e-01, -3.31938389e-01],\n",
       "       [ 6.25559181e-01, -1.29546952e+00,  0.00000000e+00,\n",
       "        -1.55784653e-01,  4.18491768e-01, -2.59293186e-01,\n",
       "         2.86527822e-01, -4.70461054e-01, -2.67702571e-01,\n",
       "        -4.06004736e-01, -3.96218294e-01, -5.14504504e-01],\n",
       "       [-1.02673300e+00, -1.29546952e+00,  0.00000000e+00,\n",
       "        -1.31919770e+00, -1.14002930e+00, -3.03602781e-01,\n",
       "         8.79785288e-01, -2.22955339e-01, -4.40912098e-01,\n",
       "         1.03955059e+00, -3.15715748e-01,  2.98744550e-01],\n",
       "       [ 8.45864805e-01, -4.13679344e-01,  0.00000000e+00,\n",
       "         8.28641771e-01,  2.88615013e-02, -2.59293186e-01,\n",
       "        -3.06729643e-01, -2.48559379e-01,  5.05966650e-01,\n",
       "        -7.67393568e-01, -6.07910176e-02, -6.80473698e-01],\n",
       "       [ 1.50678168e+00, -4.13679344e-01,  0.00000000e+00,\n",
       "         9.18135082e-01, -3.60768766e-01, -3.03602781e-01,\n",
       "         6.97244529e-01,  1.36449511e+00,  1.58948847e+00,\n",
       "         4.25189576e-01,  1.46204882e+00,  8.79636732e-01],\n",
       "       [ 8.45864805e-01,  1.34990102e+00,  0.00000000e+00,\n",
       "        -3.34771275e-01,  1.19775230e+00, -3.77452106e-02,\n",
       "        -4.17557961e-01, -5.98481251e-01, -7.35368294e-01,\n",
       "        -7.31254685e-01, -6.57851570e-01, -7.80055215e-01],\n",
       "       [-1.02673300e+00,  1.34990102e+00,  0.00000000e+00,\n",
       "         2.02188592e-01,  4.18491768e-01, -1.70673996e-01,\n",
       "        -3.32806895e-01, -7.94778886e-01, -4.48610299e-01,\n",
       "        -7.31254685e-01, -7.04811389e-01, -7.96652135e-01],\n",
       "       [-3.53576928e-02,  1.34990102e+00,  0.00000000e+00,\n",
       "        -3.34771275e-01, -7.50399033e-01, -3.03602781e-01,\n",
       "         2.21334694e-01, -7.94778886e-01, -7.25745542e-01,\n",
       "        -5.86699152e-01, -7.65188299e-01, -7.63458296e-01],\n",
       "       [-1.24703863e+00, -4.13679344e-01,  0.00000000e+00,\n",
       "        -2.45277964e-01, -7.50399033e-01, -3.03602781e-01,\n",
       "         7.29841093e-01, -4.19252975e-01, -4.90950406e-01,\n",
       "         4.61328459e-01, -4.36469567e-01, -8.29845974e-02],\n",
       "       [-1.46734425e+00,  1.34990102e+00,  0.00000000e+00,\n",
       "         8.28641771e-01, -3.60768766e-01,  1.38016183e+00,\n",
       "        -2.09302135e+00, -9.65472482e-01, -8.83558667e-01,\n",
       "        -1.23719905e+00, -9.32901937e-01, -8.96233651e-01],\n",
       "       [ 1.17632324e+00,  1.34990102e+00,  0.00000000e+00,\n",
       "        -2.45277964e-01, -1.91928983e+00, -3.03602781e-01,\n",
       "         7.16802467e-01, -3.59510216e-01, -5.48686915e-01,\n",
       "         1.72217394e-01, -4.43178113e-01, -2.15759953e-01],\n",
       "       [ 5.15406369e-01, -4.13679344e-01,  0.00000000e+00,\n",
       "         1.12695281e-01,  4.18491768e-01, -3.03602781e-01,\n",
       "         6.97244529e-01,  5.11027124e-01,  3.48153525e-01,\n",
       "         6.05883991e-01,  4.55766989e-01,  5.64295262e-01],\n",
       "       [ 1.61693449e+00, -4.13679344e-01,  0.00000000e+00,\n",
       "        -4.24264587e-01,  4.18491768e-01, -3.03602781e-01,\n",
       "         8.14592160e-01,  1.65467422e+00,  1.77616985e+00,\n",
       "         1.18410612e+00,  1.71697355e+00,  1.70948271e+00],\n",
       "       [ 9.56017618e-01, -1.29546952e+00,  0.00000000e+00,\n",
       "        -4.24264587e-01, -3.60768766e-01, -3.03602781e-01,\n",
       "         7.81995596e-01,  1.44035893e-01,  1.99963152e-01,\n",
       "         7.86578407e-01,  1.80716622e-01,  4.97907584e-01],\n",
       "       [-1.02673300e+00,  4.68110837e-01,  0.00000000e+00,\n",
       "         2.32019696e-02,  2.88615013e-02, -3.03602781e-01,\n",
       "         7.68956970e-01,  2.54986730e-01, -9.25684935e-02,\n",
       "         7.14300641e-01,  1.06922621e-01,  4.31519906e-01],\n",
       "       [-1.24703863e+00, -1.29546952e+00,  0.00000000e+00,\n",
       "         7.39148459e-01,  2.88615013e-02, -3.03602781e-01,\n",
       "        -6.45733909e-01, -8.11848246e-01, -7.54613797e-01,\n",
       "        -8.39671334e-01, -7.85313935e-01, -8.13249054e-01],\n",
       "       [-1.13688582e+00, -1.29546952e+00,  0.00000000e+00,\n",
       "        -1.55784653e-01, -7.50399033e-01, -3.03602781e-01,\n",
       "         5.14703770e-01, -5.72877211e-01, -6.00649773e-01,\n",
       "        -1.53032554e-01, -5.77349024e-01, -4.81310665e-01],\n",
       "       [-1.45510505e-01, -4.13679344e-01,  0.00000000e+00,\n",
       "         1.00762839e+00,  1.19775230e+00, -1.26364401e-01,\n",
       "        -9.13025734e-01, -6.24085290e-01, -7.00726388e-01,\n",
       "        -8.75810217e-01, -6.51143025e-01, -8.13249054e-01],\n",
       "       [-9.16580191e-01,  1.34990102e+00,  0.00000000e+00,\n",
       "         3.81175215e-01,  4.18491768e-01,  9.51835745e-02,\n",
       "        -8.28274668e-01, -8.45986965e-01, -8.66237714e-01,\n",
       "        -8.75810217e-01, -8.45690845e-01, -8.29845974e-01],\n",
       "       [-2.55663317e-01,  4.68110837e-01,  0.00000000e+00,\n",
       "        -2.45277964e-01, -7.50399033e-01, -3.03602781e-01,\n",
       "         8.01553534e-01,  7.84136878e-01,  7.94649195e-01,\n",
       "         7.86578407e-01,  7.77777174e-01,  8.63039813e-01],\n",
       "       [-9.16580191e-01, -1.29546952e+00,  0.00000000e+00,\n",
       "         3.81175215e-01, -3.60768766e-01, -3.03602781e-01,\n",
       "         7.75476283e-01, -3.51923834e-02, -2.90797174e-01,\n",
       "         7.50439524e-01, -1.41293564e-01,  2.82147631e-01],\n",
       "       [ 7.47951194e-02, -4.13679344e-01,  0.00000000e+00,\n",
       "         1.12695281e-01, -7.50399033e-01, -3.03602781e-01,\n",
       "         5.27742396e-01, -2.65628738e-01, -3.71628287e-01,\n",
       "        -1.16893671e-01, -3.02298657e-01, -2.98744550e-01],\n",
       "       [ 1.84947932e-01, -1.29546952e+00,  0.00000000e+00,\n",
       "         8.28641771e-01, -7.50399033e-01, -1.70673996e-01,\n",
       "        -1.16075962e+00, -9.05729724e-01, -8.73935915e-01,\n",
       "        -1.02036575e+00, -8.85942118e-01, -8.63039813e-01],\n",
       "       [-1.45510505e-01,  4.68110837e-01,  0.00000000e+00,\n",
       "        -1.22970439e+00, -1.14002930e+00, -1.70673996e-01,\n",
       "         5.01665145e-01,  2.63521410e-01,  7.52309088e-01,\n",
       "         6.38007443e-02,  4.28932806e-01,  1.49372275e-01],\n",
       "       [ 2.95100744e-01,  4.68110837e-01,  0.00000000e+00,\n",
       "        -6.03251209e-01,  1.19775230e+00, -3.03602781e-01,\n",
       "         9.58017041e-01,  9.12157075e-01,  1.29888137e+00,\n",
       "         2.23213373e+00,  1.05282754e+00,  1.95843650e+00],\n",
       "       [ 1.28647605e+00,  1.34990102e+00,  0.00000000e+00,\n",
       "        -1.94565088e+00, -7.50399033e-01,  6.56438445e-03,\n",
       "         1.82218817e-01, -4.61926374e-01, -8.58539513e-01,\n",
       "        -6.22838035e-01, -5.90766115e-01, -7.46861376e-01],\n",
       "       [ 1.50678168e+00,  1.34990102e+00,  0.00000000e+00,\n",
       "         8.28641771e-01, -7.50399033e-01,  3.16731550e-01,\n",
       "        -1.93655785e+00, -9.05729724e-01, -8.83558667e-01,\n",
       "        -1.20106017e+00, -8.85942118e-01, -8.79636732e-01],\n",
       "       [ 9.56017618e-01,  1.34990102e+00,  0.00000000e+00,\n",
       "         1.09712170e+00,  1.97701284e+00,  2.26635373e+00,\n",
       "        -1.70186258e+00, -8.11848246e-01, -8.79709566e-01,\n",
       "        -1.12878240e+00, -8.45690845e-01, -8.79636732e-01],\n",
       "       [-4.75968942e-01,  1.34990102e+00,  0.00000000e+00,\n",
       "         1.72357488e+00, -1.14002930e+00, -3.03602781e-01,\n",
       "        -2.41536515e-01, -8.45986965e-01, -7.08424590e-01,\n",
       "        -8.39671334e-01, -7.98731026e-01, -8.13249054e-01],\n",
       "       [ 8.45864805e-01, -1.29546952e+00,  0.00000000e+00,\n",
       "        -2.45277964e-01,  4.18491768e-01, -3.03602781e-01,\n",
       "         7.29841093e-01, -1.12004502e-01,  4.59991282e-02,\n",
       "         7.50439524e-01, -4.73739265e-02,  3.48535309e-01],\n",
       "       [ 7.35711993e-01, -1.29546952e+00,  0.00000000e+00,\n",
       "        -6.03251209e-01,  8.08122036e-01, -2.59293186e-01,\n",
       "         4.36472017e-01, -3.68044896e-01, -1.09889446e-01,\n",
       "        -8.07547882e-02, -2.75464475e-01, -2.65550712e-01],\n",
       "       [ 7.35711993e-01,  1.34990102e+00,  0.00000000e+00,\n",
       "        -1.31919770e+00, -1.91928983e+00, -8.20548056e-02,\n",
       "        -6.55150695e-02, -3.93648935e-01, -4.42836648e-01,\n",
       "        -8.39671334e-01, -4.02926840e-01, -7.80055215e-01],\n",
       "       [ 2.95100744e-01, -1.29546952e+00,  0.00000000e+00,\n",
       "        -1.22970439e+00,  2.88615013e-02, -2.59293186e-01,\n",
       "         3.38682325e-01, -6.83828049e-01, -7.19971891e-01,\n",
       "        -3.69865853e-01, -6.91394298e-01, -6.63876779e-01],\n",
       "       [ 1.28647605e+00, -1.29546952e+00,  0.00000000e+00,\n",
       "        -1.22970439e+00, -7.50399033e-01, -3.03602781e-01,\n",
       "         9.38459103e-01,  1.10845471e+00,  6.75327076e-01,\n",
       "         1.47321719e+00,  9.45490813e-01,  1.41073816e+00],\n",
       "       [ 7.47951194e-02,  1.34990102e+00,  0.00000000e+00,\n",
       "        -1.49818432e+00, -7.50399033e-01, -3.03602781e-01,\n",
       "         8.47188724e-01, -5.21669132e-01, -5.60234216e-01,\n",
       "         9.67272823e-01, -5.30389205e-01,  8.29845974e-02],\n",
       "       [ 1.28647605e+00, -4.13679344e-01,  0.00000000e+00,\n",
       "         6.49655148e-01, -3.60768766e-01, -3.03602781e-01,\n",
       "         7.68956970e-01,  1.01457323e+00,  1.23922031e+00,\n",
       "         7.50439524e-01,  1.10649591e+00,  9.79218249e-01],\n",
       "       [-1.57749706e+00, -4.13679344e-01,  0.00000000e+00,\n",
       "         5.60161837e-01,  1.19775230e+00,  2.28112359e-01,\n",
       "        -1.23899137e+00, -8.63056325e-01, -8.68162265e-01,\n",
       "        -9.84226866e-01, -8.59107936e-01, -8.46442893e-01],\n",
       "       [-1.24703863e+00,  4.68110837e-01,  0.00000000e+00,\n",
       "        -3.34771275e-01, -1.14002930e+00, -3.03602781e-01,\n",
       "         7.88514908e-01, -1.20539181e-01, -4.56308500e-01,\n",
       "         6.05883991e-01, -2.75464475e-01,  1.16178436e-01],\n",
       "       [-3.65816130e-01, -1.29546952e+00,  0.00000000e+00,\n",
       "         1.36560164e+00,  1.97701284e+00,  2.28112359e-01,\n",
       "        -1.61059220e+00, -4.96065093e-01, -7.00726388e-01,\n",
       "        -1.09264352e+00, -5.97474660e-01, -8.63039813e-01],\n",
       "       [ 1.17632324e+00,  4.68110837e-01,  0.00000000e+00,\n",
       "         1.18661502e+00,  1.97701284e+00, -3.03602781e-01,\n",
       "         6.64647965e-01,  2.94341087e+00,  2.82504976e+00,\n",
       "         3.16772926e-01,  2.93122029e+00,  1.29455972e+00],\n",
       "       [-1.68764988e+00, -4.13679344e-01,  0.00000000e+00,\n",
       "        -6.62913417e-02,  1.19775230e+00,  1.39493169e-01,\n",
       "        -9.65180237e-01, -8.54521645e-01, -8.62388614e-01,\n",
       "        -8.75810217e-01, -8.52399391e-01, -8.29845974e-01],\n",
       "       [ 1.06617043e+00,  4.68110837e-01,  0.00000000e+00,\n",
       "         8.28641771e-01,  8.08122036e-01, -3.03602781e-01,\n",
       "         7.23321780e-01,  2.82392535e+00,  2.64029293e+00,\n",
       "         4.25189576e-01,  2.78363229e+00,  1.37754432e+00],\n",
       "       [ 1.61693449e+00,  4.68110837e-01,  0.00000000e+00,\n",
       "         1.00762839e+00,  1.97701284e+00,  7.14040918e+00,\n",
       "        -1.44760938e+00, -3.25371497e-01, -8.60464063e-01,\n",
       "        -1.05650463e+00, -4.90137932e-01, -8.46442893e-01],\n",
       "       [ 1.06617043e+00, -1.29546952e+00,  0.00000000e+00,\n",
       "        -4.24264587e-01,  8.08122036e-01, -3.03602781e-01,\n",
       "         7.88514908e-01,  4.51284366e-01,  3.53927176e-01,\n",
       "         1.14796724e+00,  4.02098624e-01,  8.63039813e-01],\n",
       "       [-2.55663317e-01, -1.29546952e+00,  0.00000000e+00,\n",
       "         8.28641771e-01,  1.58738257e+00, -8.20548056e-02,\n",
       "        -1.02385405e+00, -6.75293369e-01, -8.77785016e-01,\n",
       "        -9.11949100e-01, -7.51771208e-01, -8.29845974e-01],\n",
       "       [-8.06427379e-01,  4.68110837e-01,  0.00000000e+00,\n",
       "        -8.71731143e-01,  4.18491768e-01, -3.03602781e-01,\n",
       "         8.27630785e-01,  1.95243971e-01,  6.90937318e-02,\n",
       "         1.22024500e+00,  1.53882440e-01,  7.46861376e-01],\n",
       "       [ 7.47951194e-02,  4.68110837e-01,  0.00000000e+00,\n",
       "        -1.49818432e+00,  8.08122036e-01, -3.03602781e-01,\n",
       "         9.51497729e-01,  2.97660129e-01,  9.10122213e-01,\n",
       "         2.23213373e+00,  4.89309716e-01,  1.52691659e+00],\n",
       "       [-5.86121754e-01,  1.34990102e+00,  0.00000000e+00,\n",
       "         7.39148459e-01,  1.97701284e+00,  4.93969930e-01,\n",
       "        -1.05645062e+00, -9.05729724e-01, -8.66237714e-01,\n",
       "        -8.75810217e-01, -8.85942118e-01, -8.46442893e-01],\n",
       "       [ 6.25559181e-01, -4.13679344e-01,  0.00000000e+00,\n",
       "         9.18135082e-01,  8.08122036e-01, -2.59293186e-01,\n",
       "        -8.50730079e-02,  3.31798848e-01,  5.09815751e-01,\n",
       "        -6.22838035e-01,  4.08807170e-01, -4.31519906e-01],\n",
       "       [ 4.05253556e-01, -4.13679344e-01,  0.00000000e+00,\n",
       "        -3.34771275e-01, -3.60768766e-01, -2.59293186e-01,\n",
       "         4.36472017e-01, -1.81230238e-02,  1.67245797e-01,\n",
       "        -2.61449204e-01,  5.99628021e-02, -2.32356873e-01],\n",
       "       [ 1.84947932e-01,  4.68110837e-01,  0.00000000e+00,\n",
       "        -1.31919770e+00,  8.08122036e-01, -3.03602781e-01,\n",
       "         9.58017041e-01,  6.39047321e-01,  1.10642634e+00,\n",
       "         2.23213373e+00,  7.97902811e-01,  1.77587038e+00],\n",
       "       [-4.75968942e-01,  4.68110837e-01,  0.00000000e+00,\n",
       "        -1.58767763e+00, -1.14002930e+00, -1.70673996e-01,\n",
       "         4.29952704e-01,  2.63521410e-01,  4.17437336e-01,\n",
       "        -3.69865853e-01,  3.41721714e-01, -1.99163034e-01],\n",
       "       [-1.35719144e+00, -4.13679344e-01,  0.00000000e+00,\n",
       "         8.28641771e-01,  4.18491768e-01, -3.03602781e-01,\n",
       "         3.51720950e-01, -6.75293369e-01, -6.71858134e-01,\n",
       "        -2.97588087e-01, -6.64560116e-01, -6.14086020e-01],\n",
       "       [-1.57749706e+00,  4.68110837e-01,  0.00000000e+00,\n",
       "        -1.22970439e+00, -1.52965957e+00, -1.26364401e-01,\n",
       "         2.14815381e-01, -5.72877211e-01, -8.35444909e-01,\n",
       "        -6.58976918e-01, -6.77977207e-01, -7.63458296e-01],\n",
       "       [ 1.28647605e+00,  4.68110837e-01,  0.00000000e+00,\n",
       "        -4.24264587e-01,  2.88615013e-02, -3.03602781e-01,\n",
       "         9.58017041e-01,  3.21652062e+00,  3.02135389e+00,\n",
       "         1.36480054e+00,  3.17272793e+00,  2.40655332e+00],\n",
       "       [ 9.56017618e-01, -4.13679344e-01,  0.00000000e+00,\n",
       "        -3.34771275e-01,  8.08122036e-01, -3.03602781e-01,\n",
       "         6.25532088e-01, -1.05366417e-03,  6.79176177e-01,\n",
       "         4.61328459e-01,  1.94133713e-01,  3.15341470e-01],\n",
       "       [-4.75968942e-01, -1.29546952e+00,  0.00000000e+00,\n",
       "         1.09712170e+00,  1.19775230e+00, -3.03602781e-01,\n",
       "         6.05974150e-01,  1.09897173e-01,  1.53773945e-01,\n",
       "         4.61328459e-01,  1.40465348e-01,  2.82147631e-01],\n",
       "       [ 1.39662887e+00,  1.34990102e+00,  0.00000000e+00,\n",
       "         1.00762839e+00,  2.88615013e-02,  4.93969930e-01,\n",
       "        -1.78009434e+00, -8.20382926e-01, -8.79709566e-01,\n",
       "        -1.16492128e+00, -8.45690845e-01, -8.79636732e-01],\n",
       "       [ 7.47951194e-02, -1.29546952e+00,  0.00000000e+00,\n",
       "         1.81306819e+00,  2.88615013e-02, -3.77452106e-02,\n",
       "        -2.43854493e+00, -9.74007162e-01, -8.77785016e-01,\n",
       "        -1.27333793e+00, -9.39610483e-01, -8.96233651e-01],\n",
       "       [-1.02673300e+00, -4.13679344e-01,  0.00000000e+00,\n",
       "        -4.24264587e-01,  8.08122036e-01, -2.14983591e-01,\n",
       "         3.45201637e-01, -2.40024699e-01, -2.50381618e-01,\n",
       "        -2.61449204e-01, -2.35213201e-01, -3.65132228e-01],\n",
       "       [-5.86121754e-01, -4.13679344e-01,  0.00000000e+00,\n",
       "         6.49655148e-01, -7.50399033e-01, -3.03602781e-01,\n",
       "         4.16914078e-01, -3.76579576e-01, -6.68009033e-01,\n",
       "        -3.33726970e-01, -5.03555023e-01, -5.31101423e-01],\n",
       "       [-1.45510505e-01,  1.34990102e+00,  0.00000000e+00,\n",
       "         1.18661502e+00, -3.60768766e-01, -1.26364401e-01,\n",
       "        -1.94307716e+00, -9.91076522e-01, -8.87407768e-01,\n",
       "        -1.20106017e+00, -9.53027574e-01, -8.96233651e-01],\n",
       "       [-1.68764988e+00, -1.29546952e+00,  0.00000000e+00,\n",
       "        -1.05071777e+00,  8.08122036e-01, -3.03602781e-01,\n",
       "        -5.87060094e-01, -7.77709527e-01, -8.81634117e-01,\n",
       "        -8.03532451e-01, -8.18856663e-01, -8.13249054e-01],\n",
       "       [-3.65816130e-01,  4.68110837e-01,  0.00000000e+00,\n",
       "        -5.13757898e-01, -3.60768766e-01, -3.03602781e-01,\n",
       "         8.01553534e-01,  5.53700523e-01,  6.09892366e-01,\n",
       "         8.58856173e-01,  5.89937899e-01,  7.96652135e-01],\n",
       "       [-8.06427379e-01, -1.29546952e+00,  0.00000000e+00,\n",
       "         1.72357488e+00, -1.14002930e+00, -2.14983591e-01,\n",
       "        -1.42153213e+00, -3.93648935e-01, -2.81174423e-01,\n",
       "        -1.12878240e+00, -3.42549930e-01, -8.46442893e-01],\n",
       "       [ 1.50678168e+00, -1.29546952e+00,  0.00000000e+00,\n",
       "        -1.67717094e+00, -7.50399033e-01, -3.03602781e-01,\n",
       "         9.12381852e-01,  8.86553036e-01,  7.58082739e-01,\n",
       "         1.32866165e+00,  8.51571175e-01,  1.24476896e+00],\n",
       "       [ 5.15406369e-01,  1.34990102e+00,  0.00000000e+00,\n",
       "        -1.22970439e+00, -1.91928983e+00, -3.03602781e-01,\n",
       "         8.53708036e-01,  3.40333528e-01,  8.64146845e-02,\n",
       "         6.78161757e-01,  2.41093531e-01,  4.81310665e-01],\n",
       "       [-1.57749706e+00,  1.34990102e+00,  0.00000000e+00,\n",
       "         1.54458826e+00, -3.60768766e-01,  4.17166632e+00,\n",
       "        -2.88185820e+00, -1.00814588e+00, -8.93181418e-01,\n",
       "        -1.27333793e+00, -9.73153210e-01, -8.96233651e-01],\n",
       "       [ 1.39662887e+00,  4.68110837e-01,  0.00000000e+00,\n",
       "        -1.85615757e+00,  8.08122036e-01, -3.03602781e-01,\n",
       "         1.00365223e+00,  3.55790782e+00,  3.21380892e+00,\n",
       "         3.24402246e+00,  3.47461248e+00,  4.11603603e+00],\n",
       "       [ 1.39662887e+00, -1.29546952e+00,  0.00000000e+00,\n",
       "        -1.94565088e+00, -1.14002930e+00, -1.70673996e-01,\n",
       "         3.38682325e-01,  5.02492444e-01,  5.96420514e-01,\n",
       "        -4.78282503e-01,  5.49686626e-01, -2.48953792e-01],\n",
       "       [ 6.25559181e-01,  1.34990102e+00,  0.00000000e+00,\n",
       "        -1.67717094e+00,  1.19775230e+00, -3.77452106e-02,\n",
       "         2.01776756e-01, -1.63212581e-01, -2.31136115e-01,\n",
       "        -4.06004736e-01, -1.81544837e-01, -4.31519906e-01],\n",
       "       [-1.35719144e+00,  4.68110837e-01,  0.00000000e+00,\n",
       "         2.32019696e-02, -1.14002930e+00, -3.03602781e-01,\n",
       "         6.71167278e-01, -3.68044896e-01, -6.46838980e-01,\n",
       "         1.72217394e-01, -4.96846477e-01, -2.48953792e-01],\n",
       "       [-3.53576928e-02, -1.29546952e+00,  0.00000000e+00,\n",
       "         1.81306819e+00, -1.14002930e+00,  6.56438445e-03,\n",
       "        -2.51677669e+00, -9.22799083e-01, -8.81634117e-01,\n",
       "        -1.27333793e+00, -8.99359209e-01, -8.96233651e-01],\n",
       "       [-8.06427379e-01,  1.34990102e+00,  0.00000000e+00,\n",
       "         7.39148459e-01, -3.60768766e-01,  1.39493169e-01,\n",
       "        -1.21291412e+00, -8.88660364e-01, -8.66237714e-01,\n",
       "        -1.02036575e+00, -8.72525027e-01, -8.63039813e-01],\n",
       "       [-6.96274567e-01, -1.29546952e+00,  0.00000000e+00,\n",
       "         9.18135082e-01, -1.52965957e+00, -3.03602781e-01,\n",
       "        -9.81116335e-02, -2.57094058e-01, -1.36833150e-01,\n",
       "        -8.03532451e-01, -2.01670474e-01, -7.46861376e-01]])"
      ]
     },
     "execution_count": 19,
     "metadata": {},
     "output_type": "execute_result"
    }
   ],
   "source": [
    "x_train=scaler.fit_transform(x_train)\n",
    "x_train"
   ]
  },
  {
   "cell_type": "code",
   "execution_count": 22,
   "id": "99f85119",
   "metadata": {},
   "outputs": [
    {
     "data": {
      "text/plain": [
       "array([[-1.67715934e+00,  4.14039336e-01,  0.00000000e+00,\n",
       "        -1.98363288e+00, -6.49946707e-01, -4.38507299e-01,\n",
       "         2.65241125e-01, -6.99679917e-01, -8.36426305e-01,\n",
       "        -5.60030810e-01, -7.74871213e-01, -7.34898687e-01],\n",
       "       [ 1.68015962e-01, -5.29050262e-01,  0.00000000e+00,\n",
       "         8.81364154e-01,  1.46976585e+00, -4.38507299e-01,\n",
       "        -1.27216931e-01, -4.83619909e-01, -5.35088020e-01,\n",
       "        -9.39797250e-01, -5.05889579e-01, -8.07960875e-01],\n",
       "       [-5.70054158e-01, -5.29050262e-01,  0.00000000e+00,\n",
       "         2.34429340e-01, -9.52762787e-01, -1.72436274e-01,\n",
       "        -5.07015050e-01, -5.81829003e-01, -8.54152086e-01,\n",
       "        -8.22946038e-01, -6.92682380e-01, -7.93348438e-01],\n",
       "       [-1.43113596e+00,  4.14039336e-01,  0.00000000e+00,\n",
       "        -3.20086215e-01, -6.49946707e-01, -3.24476860e-01,\n",
       "         1.25981815e-01, -6.11291732e-01, -8.40365368e-01,\n",
       "        -6.47669219e-01, -7.15097517e-01, -7.49511125e-01],\n",
       "       [ 6.60062709e-01,  1.35712893e+00,  0.00000000e+00,\n",
       "         1.62071823e+00,  5.61317611e-01, -4.38507299e-01,\n",
       "         5.81739558e-01,  1.54739208e-01, -6.63395777e-02,\n",
       "         1.70289267e-01,  6.94322512e-02,  5.41729391e-02],\n",
       "       [-1.18511259e+00,  1.35712893e+00,  0.00000000e+00,\n",
       "         7.88944895e-01, -4.43145482e-02, -4.38507299e-01,\n",
       "         3.91840498e-01, -8.37172650e-01, -5.64630989e-01,\n",
       "        -3.26328386e-01, -7.44984365e-01, -6.17999187e-01],\n",
       "       [ 1.02909777e+00, -5.29050262e-01,  0.00000000e+00,\n",
       "        -4.28284372e-02,  1.77258193e+00, -2.86466714e-01,\n",
       "        -4.05735551e-01, -1.39888077e-01,  3.66957302e-01,\n",
       "        -6.18456416e-01,  2.46019788e-02, -5.59549437e-01],\n",
       "       [-2.01019098e-01,  1.35712893e+00,  0.00000000e+00,\n",
       "         1.80555675e+00,  1.46976585e+00,  1.30995944e+00,\n",
       "        -2.13381699e+00, -1.04341175e+00, -8.89603649e-01,\n",
       "        -1.11507407e+00, -9.91550863e-01, -8.66410625e-01],\n",
       "       [ 9.06086082e-01,  4.14039336e-01,  0.00000000e+00,\n",
       "        -1.05944029e+00,  5.61317611e-01, -4.38507299e-01,\n",
       "         9.17227896e-01,  2.11892110e+00,  1.94258232e+00,\n",
       "         1.74778063e+00,  2.09426622e+00,  2.11452663e+00],\n",
       "       [-6.93065844e-01, -5.29050262e-01,  0.00000000e+00,\n",
       "         1.42010081e-01, -6.49946707e-01,  9.36347511e-02,\n",
       "        -5.07015050e-01, -4.14873542e-01, -8.56121618e-01,\n",
       "        -8.22946038e-01, -5.73134987e-01, -7.78736000e-01],\n",
       "       [-1.43113596e+00, -1.47213986e+00,  0.00000000e+00,\n",
       "         1.43587971e+00,  1.77258193e+00,  4.54082189e+00,\n",
       "        -1.74135894e+00, -9.25560835e-01, -8.97481774e-01,\n",
       "        -1.05664846e+00, -9.24305455e-01, -8.51798188e-01],\n",
       "       [-8.16077531e-01,  4.14039336e-01,  0.00000000e+00,\n",
       "        -5.97343992e-01,  5.61317611e-01, -3.24476860e-01,\n",
       "         1.57631658e-01, -6.13208007e-02, -1.11638797e-01,\n",
       "        -5.01605204e-01, -7.25302782e-02, -4.86487249e-01],\n",
       "       [-5.70054158e-01,  1.35712893e+00,  0.00000000e+00,\n",
       "         6.04106377e-01, -1.25557887e+00,  2.45675337e-01,\n",
       "        -9.31122949e-01, -9.55023564e-01, -8.62030212e-01,\n",
       "        -9.39797250e-01, -9.24305455e-01, -8.22573313e-01],\n",
       "       [-1.30812428e+00,  1.35712893e+00,  0.00000000e+00,\n",
       "         6.04106377e-01,  2.58501531e-01, -4.00497153e-01,\n",
       "        -3.93075614e-01, -9.84486292e-01, -7.28102085e-01,\n",
       "        -7.35307629e-01, -9.09362031e-01, -7.93348438e-01],\n",
       "       [-8.16077531e-01, -5.29050262e-01,  0.00000000e+00,\n",
       "         1.42010081e-01,  8.64133690e-01, -4.38507299e-01,\n",
       "         6.95678993e-01,  5.65301131e-02, -5.64919214e-02,\n",
       "         6.08481313e-01,  2.46019788e-02,  3.02584377e-01],\n",
       "       [-1.55414765e+00, -1.47213986e+00,  0.00000000e+00,\n",
       "        -5.04924733e-01, -9.52762787e-01,  5.56246046e-02,\n",
       "        -6.46274360e-01, -7.68426284e-01, -8.87634118e-01,\n",
       "        -8.52158841e-01, -8.34644910e-01, -8.07960875e-01],\n",
       "       [ 7.83074396e-01,  4.14039336e-01,  0.00000000e+00,\n",
       "        -7.82182510e-01,  8.64133690e-01, -4.38507299e-01,\n",
       "         8.85578053e-01,  1.73590564e+00,  1.74169013e+00,\n",
       "         1.54329101e+00,  1.77298260e+00,  1.82227788e+00],\n",
       "       [ 1.39813283e+00, -5.29050262e-01,  0.00000000e+00,\n",
       "        -1.24427881e+00,  8.64133690e-01, -4.38507299e-01,\n",
       "         9.23557865e-01,  5.08291949e-01,  9.04639339e-01,\n",
       "         1.77699344e+00,  6.59697505e-01,  1.36929232e+00],\n",
       "       [-4.47042471e-01, -1.47213986e+00,  0.00000000e+00,\n",
       "        -1.35247696e-01, -6.49946707e-01, -4.38507299e-01,\n",
       "         6.26049338e-01,  5.65301131e-02,  3.21369859e-02,\n",
       "         2.42252513e-02,  5.44888271e-02, -4.81141236e-02],\n",
       "       [-7.80074111e-02, -5.29050262e-01,  0.00000000e+00,\n",
       "        -5.04924733e-01, -9.52762787e-01, -2.10446421e-01,\n",
       "        -4.49273384e-02, -4.05052633e-01, -5.86295833e-01,\n",
       "        -7.35307629e-01, -4.98417866e-01, -7.49511125e-01],\n",
       "       [ 6.60062709e-01,  4.14039336e-01,  0.00000000e+00,\n",
       "         1.42010081e-01,  8.64133690e-01, -4.38507299e-01,\n",
       "         8.66588147e-01,  1.37253198e+00,  1.53488935e+00,\n",
       "         1.42643980e+00,  1.46664241e+00,  1.58847888e+00],\n",
       "       [ 5.37051022e-01, -5.29050262e-01,  0.00000000e+00,\n",
       "        -6.89763251e-01,  2.58501531e-01, -4.38507299e-01,\n",
       "         8.53928209e-01,  7.42556571e-03,  2.59401680e-03,\n",
       "         1.10509897e+00,  2.33809917e-01,  7.26345066e-01],\n",
       "       [ 4.14039336e-01, -5.29050262e-01,  0.00000000e+00,\n",
       "         1.42010081e-01, -6.49946707e-01, -4.38507299e-01,\n",
       "         6.83019056e-01,  1.72464752e-02, -1.88450517e-01,\n",
       "         1.99502070e-01, -6.50585661e-02,  1.03356265e-02],\n",
       "       [-1.67715934e+00,  1.35712893e+00,  0.00000000e+00,\n",
       "         8.81364154e-01,  2.58501531e-01,  2.29822325e+00,\n",
       "        -1.81098859e+00, -1.04341175e+00, -8.89603649e-01,\n",
       "        -1.08586127e+00, -9.91550863e-01, -8.51798188e-01],\n",
       "       [ 1.52114452e+00, -1.47213986e+00,  0.00000000e+00,\n",
       "        -1.24427881e+00,  5.61317611e-01, -4.38507299e-01,\n",
       "         9.10897927e-01,  9.50232876e-01,  5.44215117e-01,\n",
       "         1.54329101e+00,  8.01660035e-01,  1.32545500e+00],\n",
       "       [-3.24030784e-01, -5.29050262e-01,  0.00000000e+00,\n",
       "         7.88944895e-01, -9.52762787e-01, -4.00497153e-01,\n",
       "         3.10322853e-02, -3.95231723e-01, -4.91758332e-01,\n",
       "        -7.06094826e-01, -4.38644170e-01, -7.34898687e-01],\n",
       "       [ 6.60062709e-01, -1.47213986e+00,  0.00000000e+00,\n",
       "         1.25104119e+00, -4.43145482e-02, -2.86466714e-01,\n",
       "        -9.37452918e-01, -8.37172650e-01, -5.03575520e-01,\n",
       "        -8.81371644e-01, -7.44984365e-01, -8.07960875e-01],\n",
       "       [ 4.50042756e-02, -1.47213986e+00,  0.00000000e+00,\n",
       "         1.25104119e+00,  2.58501531e-01,  7.39807241e-01,\n",
       "        -1.59576966e+00, -8.76456288e-01, -8.91573181e-01,\n",
       "        -1.02743566e+00, -9.01890319e-01, -8.51798188e-01],\n",
       "       [ 1.02909777e+00,  4.14039336e-01,  0.00000000e+00,\n",
       "        -1.24427881e+00, -4.43145482e-02, -4.38507299e-01,\n",
       "         9.42547771e-01,  2.52157839e+00,  2.14347451e+00,\n",
       "         1.89384465e+00,  2.42302155e+00,  2.39216294e+00],\n",
       "       [-1.06210090e+00, -5.29050262e-01,  0.00000000e+00,\n",
       "        -3.20086215e-01, -6.49946707e-01, -4.38507299e-01,\n",
       "         7.84298554e-01, -1.00604439e-01, -3.08591924e-01,\n",
       "         4.91630101e-01, -1.92077671e-01,  1.27235127e-01],\n",
       "       [ 7.83074396e-01, -1.47213986e+00,  0.00000000e+00,\n",
       "         1.06620267e+00, -6.49946707e-01, -4.38507299e-01,\n",
       "         4.04500436e-01, -5.52366275e-01, -4.14946613e-01,\n",
       "        -3.84753992e-01, -4.98417866e-01, -5.44937000e-01],\n",
       "       [-7.80074111e-02,  1.35712893e+00,  0.00000000e+00,\n",
       "         8.81364154e-01,  2.98384625e+00,  2.71633486e+00,\n",
       "        -1.72236903e+00, -1.06305357e+00, -8.99451306e-01,\n",
       "        -1.02743566e+00, -1.00649429e+00, -8.51798188e-01],\n",
       "       [ 1.39813283e+00,  1.35712893e+00,  0.00000000e+00,\n",
       "        -1.15185955e+00, -1.55839495e+00, -4.38507299e-01,\n",
       "         4.67800122e-01, -5.81829003e-01, -7.16284897e-01,\n",
       "        -4.13966795e-01, -6.62795532e-01, -6.17999187e-01],\n",
       "       [-1.30812428e+00, -1.47213986e+00,  0.00000000e+00,\n",
       "         2.08281452e+00, -9.52762787e-01,  5.11746362e-01,\n",
       "        -2.91240314e+00, -1.04341175e+00, -9.01420837e-01,\n",
       "        -1.14428687e+00, -9.99022576e-01, -8.66410625e-01],\n",
       "       [ 1.68015962e-01,  4.14039336e-01,  0.00000000e+00,\n",
       "        -5.04924733e-01,  5.61317611e-01, -3.24476860e-01,\n",
       "         3.53860686e-01, -2.20371627e-02,  7.43137775e-01,\n",
       "        -3.26328386e-01,  1.88979644e-01, -2.52688249e-01],\n",
       "       [-4.47042471e-01,  4.14039336e-01,  0.00000000e+00,\n",
       "        -3.20086215e-01, -9.52762787e-01, -4.38507299e-01,\n",
       "         9.04567959e-01,  9.60053786e-01,  4.79220585e-01,\n",
       "         9.29822147e-01,  7.79244898e-01,  9.01694316e-01],\n",
       "       [ 4.14039336e-01,  1.35712893e+00,  0.00000000e+00,\n",
       "        -1.61395584e+00, -1.55839495e+00, -4.38507299e-01,\n",
       "         9.36217802e-01, -2.08634443e-01, -3.85403644e-01,\n",
       "         8.42183737e-01, -2.81738216e-01,  2.58747065e-01],\n",
       "       [ 5.37051022e-01,  1.35712893e+00,  0.00000000e+00,\n",
       "        -8.74601769e-01, -6.49946707e-01, -4.38507299e-01,\n",
       "         9.29887833e-01,  5.65301131e-02, -2.23902079e-01,\n",
       "         1.13431177e+00, -6.50585661e-02,  5.50995815e-01],\n",
       "       [ 1.89017958e+00,  4.14039336e-01,  0.00000000e+00,\n",
       "         3.26848599e-01,  2.58501531e-01, -1.34426128e-01,\n",
       "        -1.20886962e-01,  1.30378562e+00,  2.51571592e+00,\n",
       "        -6.47669219e-01,  1.66837864e+00, -2.52688249e-01],\n",
       "       [ 1.15210946e+00,  4.14039336e-01,  0.00000000e+00,\n",
       "        -2.27666955e-01, -6.49946707e-01, -4.38507299e-01,\n",
       "         9.04567959e-01,  2.80638477e+00,  2.33648857e+00,\n",
       "         1.48486541e+00,  2.67705977e+00,  2.18758882e+00],\n",
       "       [ 1.52114452e+00, -5.29050262e-01,  0.00000000e+00,\n",
       "        -1.70637510e+00, -9.52762787e-01, -4.38507299e-01,\n",
       "         9.93187520e-01,  1.00915833e+00,  1.09962294e+00,\n",
       "         1.39722700e+00,  1.07064167e+00,  1.36929232e+00]])"
      ]
     },
     "execution_count": 22,
     "metadata": {},
     "output_type": "execute_result"
    }
   ],
   "source": [
    "x_test=scaler.transform(x_test)\n",
    "x_test"
   ]
  },
  {
   "cell_type": "markdown",
   "id": "6318f43a",
   "metadata": {},
   "source": [
    "MODEL Training"
   ]
  },
  {
   "cell_type": "code",
   "execution_count": 23,
   "id": "8b578c4d",
   "metadata": {},
   "outputs": [
    {
     "data": {
      "text/plain": [
       "LinearRegression()"
      ]
     },
     "execution_count": 23,
     "metadata": {},
     "output_type": "execute_result"
    }
   ],
   "source": [
    "from sklearn.linear_model import LinearRegression\n",
    "regression=LinearRegression()\n",
    "regression\n"
   ]
  },
  {
   "cell_type": "code",
   "execution_count": 24,
   "id": "ba955922",
   "metadata": {},
   "outputs": [
    {
     "data": {
      "text/plain": [
       "LinearRegression()"
      ]
     },
     "execution_count": 24,
     "metadata": {},
     "output_type": "execute_result"
    }
   ],
   "source": [
    "regression.fit(x_train,y_train)"
   ]
  },
  {
   "cell_type": "code",
   "execution_count": 25,
   "id": "e7b59599",
   "metadata": {},
   "outputs": [
    {
     "name": "stdout",
     "output_type": "stream",
     "text": [
      "31.037037037037035\n"
     ]
    }
   ],
   "source": [
    "#intercept \n",
    "print(regression.intercept_)"
   ]
  },
  {
   "cell_type": "code",
   "execution_count": 27,
   "id": "d8934765",
   "metadata": {},
   "outputs": [
    {
     "data": {
      "text/plain": [
       "array([33.39637671, 29.93561659, 29.69040198, 31.66628715, 30.26198289,\n",
       "       31.44107915, 29.60389109, 26.00678157, 34.40955302, 29.72712598,\n",
       "       27.13420235, 31.88887889, 29.13085744, 30.44661936, 32.5267164 ,\n",
       "       30.64513208, 34.12347847, 33.68528202, 32.357749  , 30.71536753,\n",
       "       33.31746323, 34.21066136, 31.61369367, 27.91445836, 33.19556487,\n",
       "       30.03717385, 27.87093939, 26.93125594, 34.60038878, 32.79452574,\n",
       "       30.25865092, 27.40627107, 31.48735782, 24.67605077, 31.90867158,\n",
       "       33.1219969 , 33.26818439, 32.65228994, 28.79003759, 33.45062438,\n",
       "       34.2188783 ])"
      ]
     },
     "execution_count": 27,
     "metadata": {},
     "output_type": "execute_result"
    }
   ],
   "source": [
    "#predicting the data\n",
    "y_pred=regression.predict(x_test)\n",
    "y_pred"
   ]
  },
  {
   "cell_type": "markdown",
   "id": "f96e3d6f",
   "metadata": {},
   "source": [
    "# Assumption of linear regression\n",
    "#used to check whether the training model is good or bad"
   ]
  },
  {
   "cell_type": "code",
   "execution_count": 28,
   "id": "46fb748b",
   "metadata": {},
   "outputs": [
    {
     "data": {
      "text/plain": [
       "Text(0, 0.5, 'predicted data')"
      ]
     },
     "execution_count": 28,
     "metadata": {},
     "output_type": "execute_result"
    },
    {
     "data": {
      "image/png": "[encoded data removed]",
      "text/plain": [
       "<Figure size 576x432 with 1 Axes>"
      ]
     },
     "metadata": {},
     "output_type": "display_data"
    }
   ],
   "source": [
    "# 1) scatter plot between test and predicted data\n",
    "import matplotlib.pyplot as plt\n",
    "plt.scatter(y_test,y_pred)\n",
    "plt.xlabel(\"actual data\")\n",
    "plt.ylabel(\"predicted data\")\n"
   ]
  },
  {
   "cell_type": "markdown",
   "id": "40cd57d1",
   "metadata": {},
   "source": [
    "a linear positive correlation between the predicted and actual data(shown above) is desired and hence ok"
   ]
  },
  {
   "cell_type": "code",
   "execution_count": 31,
   "id": "c708a5e9",
   "metadata": {},
   "outputs": [
    {
     "data": {
      "text/plain": [
       "<seaborn.axisgrid.FacetGrid at 0x267390e6400>"
      ]
     },
     "execution_count": 31,
     "metadata": {},
     "output_type": "execute_result"
    },
    {
     "data": {
      "image/png": "[encoded data removed]",
      "text/plain": [
       "<Figure size 360x360 with 1 Axes>"
      ]
     },
     "metadata": {},
     "output_type": "display_data"
    }
   ],
   "source": [
    "## 2) Distribution of residuals\n",
    "residual=y_test-y_pred\n",
    "residual\n",
    "sns.displot(residual,kind=\"kde\")\n"
   ]
  },
  {
   "cell_type": "markdown",
   "id": "4bb2262e",
   "metadata": {},
   "source": [
    "a gaussian distribution of the residual is expected, hence ok"
   ]
  },
  {
   "cell_type": "code",
   "execution_count": 32,
   "id": "1e4163eb",
   "metadata": {},
   "outputs": [
    {
     "data": {
      "text/plain": [
       "<matplotlib.collections.PathCollection at 0x2673adb33d0>"
      ]
     },
     "execution_count": 32,
     "metadata": {},
     "output_type": "execute_result"
    },
    {
     "data": {
      "image/png": "[encoded data removed]",
      "text/plain": [
       "<Figure size 576x432 with 1 Axes>"
      ]
     },
     "metadata": {},
     "output_type": "display_data"
    }
   ],
   "source": [
    "## 3) Scatter plot of predicted data and test data\n",
    "plt.scatter(y_pred,residual)"
   ]
  },
  {
   "cell_type": "markdown",
   "id": "de6cba50",
   "metadata": {},
   "source": [
    "a uniform distribution of predicted data and residual is expected as seen above, hence ok"
   ]
  },
  {
   "cell_type": "code",
   "execution_count": 33,
   "id": "bfb7b094",
   "metadata": {},
   "outputs": [
    {
     "name": "stdout",
     "output_type": "stream",
     "text": [
      "0.5905432198949393\n"
     ]
    }
   ],
   "source": [
    "## Performance Metrics\n",
    "#R Square-\n",
    "from sklearn.metrics import r2_score\n",
    "R_square=r2_score(y_test,y_pred)\n",
    "print(R_square)"
   ]
  },
  {
   "cell_type": "code",
   "execution_count": 34,
   "id": "a10121e1",
   "metadata": {},
   "outputs": [
    {
     "data": {
      "text/plain": [
       "0.4150617427070562"
      ]
     },
     "execution_count": 34,
     "metadata": {},
     "output_type": "execute_result"
    }
   ],
   "source": [
    "## Adjusted R square\n",
    "\n",
    "1 - (1-R_square)*(len(y_test)-1)/(len(y_test)-x_test.shape[1]-1)"
   ]
  },
  {
   "cell_type": "markdown",
   "id": "9c617f4a",
   "metadata": {},
   "source": [
    "# lets predict the temperature using  ridge regression"
   ]
  },
  {
   "cell_type": "code",
   "execution_count": 37,
   "id": "1b3e4933",
   "metadata": {},
   "outputs": [
    {
     "data": {
      "text/plain": [
       "Ridge()"
      ]
     },
     "execution_count": 37,
     "metadata": {},
     "output_type": "execute_result"
    }
   ],
   "source": [
    "from sklearn.linear_model import Ridge\n",
    "ridge=Ridge()\n",
    "ridge"
   ]
  },
  {
   "cell_type": "code",
   "execution_count": 38,
   "id": "cf31bc83",
   "metadata": {},
   "outputs": [
    {
     "data": {
      "text/plain": [
       "Ridge()"
      ]
     },
     "execution_count": 38,
     "metadata": {},
     "output_type": "execute_result"
    }
   ],
   "source": [
    "ridge.fit(x_train,y_train)"
   ]
  },
  {
   "cell_type": "code",
   "execution_count": 39,
   "id": "dfda204c",
   "metadata": {},
   "outputs": [
    {
     "name": "stdout",
     "output_type": "stream",
     "text": [
      "31.037037037037038\n"
     ]
    }
   ],
   "source": [
    "#print intercept using ridge regression\n",
    "print(ridge.intercept_)"
   ]
  },
  {
   "cell_type": "code",
   "execution_count": 42,
   "id": "fda0208c",
   "metadata": {},
   "outputs": [
    {
     "data": {
      "text/plain": [
       "array([33.30071935, 29.65990782, 29.76257125, 31.56565518, 30.27434149,\n",
       "       31.09901804, 29.99103013, 26.0070687 , 34.41348918, 29.86488134,\n",
       "       26.83472467, 31.93374844, 28.85822688, 30.15356807, 32.45869836,\n",
       "       30.59244637, 34.02049535, 33.71705232, 32.18119156, 30.86995625,\n",
       "       33.10649967, 32.99338695, 31.61170307, 27.68061358, 33.46427292,\n",
       "       30.0567473 , 27.91747688, 27.03983819, 34.69757839, 32.83738318,\n",
       "       29.95474222, 27.14839429, 31.51569717, 25.1470402 , 32.02692973,\n",
       "       33.30137128, 33.48690293, 33.02649467, 30.21868339, 33.6320084 ,\n",
       "       34.09596334])"
      ]
     },
     "execution_count": 42,
     "metadata": {},
     "output_type": "execute_result"
    }
   ],
   "source": [
    "#prediction of test data\n",
    "y_pred=ridge.predict(x_test)\n",
    "y_pred\n"
   ]
  },
  {
   "cell_type": "code",
   "execution_count": 43,
   "id": "f8faaef9",
   "metadata": {},
   "outputs": [
    {
     "data": {
      "text/plain": [
       "Text(0, 0.5, 'test predicted data')"
      ]
     },
     "execution_count": 43,
     "metadata": {},
     "output_type": "execute_result"
    },
    {
     "data": {
      "image/png": "[encoded data removed]",
      "text/plain": [
       "<Figure size 576x432 with 1 Axes>"
      ]
     },
     "metadata": {},
     "output_type": "display_data"
    }
   ],
   "source": [
    "#Assumptions of ridge regression\n",
    "# 1) scatter plot of test predicted data Vs test actual data should have positive correlation\n",
    "plt.scatter(y_test,y_pred)\n",
    "plt.xlabel(\"test actual data\")\n",
    "plt.ylabel(\"test predicted data\")\n",
    "\n",
    "# Below scatter plot confirms linear correlation between predicted and actual test data\n"
   ]
  },
  {
   "cell_type": "code",
   "execution_count": 44,
   "id": "81767664",
   "metadata": {},
   "outputs": [
    {
     "data": {
      "text/plain": [
       "<seaborn.axisgrid.FacetGrid at 0x2673927ccd0>"
      ]
     },
     "execution_count": 44,
     "metadata": {},
     "output_type": "execute_result"
    },
    {
     "data": {
      "image/png": "[encoded data removed]",
      "text/plain": [
       "<Figure size 360x360 with 1 Axes>"
      ]
     },
     "metadata": {},
     "output_type": "display_data"
    }
   ],
   "source": [
    "#2 distribution plot residual data\n",
    "residual=y_test-y_pred\n",
    "residual\n",
    "sns.displot(residual,kind=\"kde\")\n",
    "\n",
    "# A gaussian distribution of the residual is expected as seen below, hence OK"
   ]
  },
  {
   "cell_type": "code",
   "execution_count": 45,
   "id": "18a4fb69",
   "metadata": {},
   "outputs": [
    {
     "data": {
      "text/plain": [
       "Text(0, 0.5, 'residual data')"
      ]
     },
     "execution_count": 45,
     "metadata": {},
     "output_type": "execute_result"
    },
    {
     "data": {
      "image/png": "[encoded data removed]",
      "text/plain": [
       "<Figure size 576x432 with 1 Axes>"
      ]
     },
     "metadata": {},
     "output_type": "display_data"
    }
   ],
   "source": [
    "#3) scatter plot of residual vs predicted value\n",
    "plt.scatter(y_pred,residual)\n",
    "plt.xlabel(\"predicted data\")\n",
    "plt.ylabel(\"residual data\")\n",
    "\n",
    "# a uniform distribution is expected as seen below between predicted and residual data, hence OK"
   ]
  },
  {
   "cell_type": "code",
   "execution_count": 46,
   "id": "52cac522",
   "metadata": {},
   "outputs": [
    {
     "name": "stdout",
     "output_type": "stream",
     "text": [
      "0.6175334199832951\n"
     ]
    }
   ],
   "source": [
    "#Performance matrix\n",
    "# R-square\n",
    "from sklearn.metrics import r2_score\n",
    "r_square=r2_score(y_test,y_pred)\n",
    "print(r_square)"
   ]
  },
  {
   "cell_type": "code",
   "execution_count": 47,
   "id": "3a0f1a08",
   "metadata": {},
   "outputs": [
    {
     "data": {
      "text/plain": [
       "0.4536191714047073"
      ]
     },
     "execution_count": 47,
     "metadata": {},
     "output_type": "execute_result"
    }
   ],
   "source": [
    "## Adjusted R square\n",
    "1 - (1-r_square)*(len(y_test)-1)/(len(y_test)-x_test.shape[1]-1)"
   ]
  },
  {
   "cell_type": "markdown",
   "id": "4714615e",
   "metadata": {},
   "source": [
    "# lets predict the temperature using  Elastic Net"
   ]
  },
  {
   "cell_type": "code",
   "execution_count": 48,
   "id": "e1038655",
   "metadata": {},
   "outputs": [
    {
     "data": {
      "text/plain": [
       "ElasticNet()"
      ]
     },
     "execution_count": 48,
     "metadata": {},
     "output_type": "execute_result"
    }
   ],
   "source": [
    "from sklearn.linear_model import ElasticNet\n",
    "elastic=ElasticNet()\n",
    "elastic"
   ]
  },
  {
   "cell_type": "code",
   "execution_count": 49,
   "id": "b0a97d9c",
   "metadata": {},
   "outputs": [
    {
     "data": {
      "text/plain": [
       "ElasticNet()"
      ]
     },
     "execution_count": 49,
     "metadata": {},
     "output_type": "execute_result"
    }
   ],
   "source": [
    "elastic.fit(x_train,y_train)"
   ]
  },
  {
   "cell_type": "code",
   "execution_count": 51,
   "id": "3bd26cf8",
   "metadata": {},
   "outputs": [
    {
     "data": {
      "text/plain": [
       "array([31.7542906 , 30.06502229, 30.10035275, 30.88516649, 30.8570863 ,\n",
       "       30.74984358, 30.43460288, 28.01081916, 33.30204237, 30.12712484,\n",
       "       28.26555204, 31.14406373, 29.55135985, 30.06762414, 31.80016296,\n",
       "       30.29101325, 33.01850329, 33.23435152, 31.5780951 , 30.80361398,\n",
       "       32.50736903, 32.5521635 , 31.57580146, 28.59491292, 33.12911014,\n",
       "       30.32185198, 29.32777481, 28.71710635, 33.51558874, 31.98389742,\n",
       "       30.63307998, 28.65316548, 31.61843919, 27.3695023 , 31.36195201,\n",
       "       32.40292812, 32.81675595, 32.66208358, 30.53779163, 32.85102817,\n",
       "       33.34552463])"
      ]
     },
     "execution_count": 51,
     "metadata": {},
     "output_type": "execute_result"
    }
   ],
   "source": [
    "y_pred=elastic.predict(x_test)\n",
    "y_pred"
   ]
  },
  {
   "cell_type": "markdown",
   "id": "cd8426bf",
   "metadata": {},
   "source": [
    "Assumption of linear regression(below)\n",
    "used to check whether the training model is good or bad"
   ]
  },
  {
   "cell_type": "code",
   "execution_count": 52,
   "id": "7e466807",
   "metadata": {},
   "outputs": [
    {
     "data": {
      "text/plain": [
       "Text(0, 0.5, 'Test Predicted Data')"
      ]
     },
     "execution_count": 52,
     "metadata": {},
     "output_type": "execute_result"
    },
    {
     "data": {
      "image/png": "[encoded data removed]",
      "text/plain": [
       "<Figure size 576x432 with 1 Axes>"
      ]
     },
     "metadata": {},
     "output_type": "display_data"
    }
   ],
   "source": [
    "\n",
    "\n",
    "# 1) scatter plot between test and predicted data\n",
    "import matplotlib.pyplot as plt\n",
    "plt.scatter(y_test,y_pred)\n",
    "plt.xlabel(\"Test Truth Data\")\n",
    "plt.ylabel(\"Test Predicted Data\")\n",
    "\n",
    "# below plot shows test and predicted data has a linear correlation and hence ok"
   ]
  },
  {
   "cell_type": "code",
   "execution_count": 53,
   "id": "726253d8",
   "metadata": {},
   "outputs": [
    {
     "data": {
      "text/plain": [
       "<seaborn.axisgrid.FacetGrid at 0x2673c324dc0>"
      ]
     },
     "execution_count": 53,
     "metadata": {},
     "output_type": "execute_result"
    },
    {
     "data": {
      "image/png": "[encoded data removed]",
      "text/plain": [
       "<Figure size 360x360 with 1 Axes>"
      ]
     },
     "metadata": {},
     "output_type": "display_data"
    }
   ],
   "source": [
    "## 2) Distribution of residuals\n",
    "residual=y_test-y_pred\n",
    "residual\n",
    "sns.displot(residual, kind=\"kde\")\n",
    "\n",
    "#distribution plot of the residual shows a gaussian distribution with slight left skew, hence ok"
   ]
  },
  {
   "cell_type": "code",
   "execution_count": 54,
   "id": "b963bc88",
   "metadata": {},
   "outputs": [
    {
     "data": {
      "text/plain": [
       "<matplotlib.collections.PathCollection at 0x2673c3cfb80>"
      ]
     },
     "execution_count": 54,
     "metadata": {},
     "output_type": "execute_result"
    },
    {
     "data": {
      "image/png": "[encoded data removed]",
      "text/plain": [
       "<Figure size 576x432 with 1 Axes>"
      ]
     },
     "metadata": {},
     "output_type": "display_data"
    }
   ],
   "source": [
    "## 3) Scatter plot of predicted data and test data\n",
    "plt.scatter(y_pred,residual)\n",
    "#Scatter plot of predicted data and test data has a uniform distribution, hence ok"
   ]
  },
  {
   "cell_type": "code",
   "execution_count": 55,
   "id": "4389ab0d",
   "metadata": {},
   "outputs": [
    {
     "name": "stdout",
     "output_type": "stream",
     "text": [
      "0.4776834492810931\n"
     ]
    }
   ],
   "source": [
    "## Performance Metrics\n",
    "#R Square-\n",
    "from sklearn.metrics import r2_score\n",
    "R_square=r2_score(y_test,y_pred)\n",
    "print(R_square)\n"
   ]
  },
  {
   "cell_type": "code",
   "execution_count": 56,
   "id": "c9363475",
   "metadata": {},
   "outputs": [
    {
     "data": {
      "text/plain": [
       "0.2538334989729901"
      ]
     },
     "execution_count": 56,
     "metadata": {},
     "output_type": "execute_result"
    }
   ],
   "source": [
    "## Adjusted R square\n",
    "\n",
    "1 - (1-R_square)*(len(y_test)-1)/(len(y_test)-x_test.shape[1]-1)"
   ]
  },
  {
   "cell_type": "markdown",
   "id": "38e27d5e",
   "metadata": {},
   "source": [
    "# Conclusion"
   ]
  },
  {
   "cell_type": "markdown",
   "id": "6e3c6563",
   "metadata": {},
   "source": [
    "1) linear regression- R Square=59 %, adjusted R square=41 %\n",
    "2) ridge regression- R Square=61 %, adjusted R square=45 %\n",
    "3) elastic net regression- R Square=47 %, adjusted R square=25 %\n",
    "\n",
    "So from the above results, it is seen that -\n",
    "a)ridge regression gives the best accuracy out of the three\n",
    "b) Elastic net is not desired as the accuracy is lowest.\n",
    "\n"
   ]
  }
 ],
 "metadata": {
  "kernelspec": {
   "display_name": "Python 3 (ipykernel)",
   "language": "python",
   "name": "python3"
  },
  "language_info": {
   "codemirror_mode": {
    "name": "ipython",
    "version": 3
   },
   "file_extension": ".py",
   "mimetype": "text/x-python",
   "name": "python",
   "nbconvert_exporter": "python",
   "pygments_lexer": "ipython3",
   "version": "3.9.12"
  }
 },
 "nbformat": 4,
 "nbformat_minor": 5
}
